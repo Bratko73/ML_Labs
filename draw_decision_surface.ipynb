{
 "cells": [
  {
   "cell_type": "markdown",
   "id": "033fd0cd",
   "metadata": {},
   "source": [
    "## Отрисовка предсказаний классификатора для региона"
   ]
  },
  {
   "cell_type": "code",
   "execution_count": 15,
   "id": "625d3b53",
   "metadata": {},
   "outputs": [],
   "source": [
    "import pandas as pd"
   ]
  },
  {
   "cell_type": "code",
   "execution_count": 54,
   "id": "ae114c37",
   "metadata": {},
   "outputs": [],
   "source": [
    "from sklearn.linear_model import LogisticRegression\n",
    "from sklearn.model_selection import train_test_split"
   ]
  },
  {
   "cell_type": "code",
   "execution_count": 55,
   "id": "c020178f",
   "metadata": {},
   "outputs": [],
   "source": [
    "from sklearn.tree import DecisionTreeClassifier"
   ]
  },
  {
   "cell_type": "code",
   "execution_count": 56,
   "id": "b20c22ec",
   "metadata": {},
   "outputs": [],
   "source": [
    "import numpy as np"
   ]
  },
  {
   "cell_type": "code",
   "execution_count": 57,
   "id": "aa302142",
   "metadata": {},
   "outputs": [],
   "source": [
    "import matplotlib.pyplot as plt\n",
    "from matplotlib.colors import ListedColormap\n"
   ]
  },
  {
   "cell_type": "code",
   "execution_count": 58,
   "id": "37cd2cf3",
   "metadata": {},
   "outputs": [],
   "source": [
    "def label_data(X):\n",
    "    x1, x2 = X.T\n",
    "    return (x1**2 - x2**2 + x1 * x2 > 0).astype(np.int32)"
   ]
  },
  {
   "cell_type": "code",
   "execution_count": 59,
   "id": "d81fd9cb",
   "metadata": {},
   "outputs": [],
   "source": [
    "X = np.random.uniform(-3,3,size=(120,2))\n",
    "y = label_data(X)"
   ]
  },
  {
   "cell_type": "code",
   "execution_count": 60,
   "id": "170b3cd2",
   "metadata": {},
   "outputs": [
    {
     "data": {
      "text/plain": [
       "array([0, 0, 1, 1, 0, 1, 0, 0, 1, 0, 0, 1, 0, 1, 1, 0, 1, 1, 0, 1, 0, 0,\n",
       "       1, 0, 1, 1, 1, 0, 1, 1, 1, 0, 1, 1, 1, 0, 0, 0, 0, 0, 0, 0, 1, 0,\n",
       "       1, 1, 1, 0, 0, 0, 1, 1, 1, 0, 1, 0, 0, 1, 1, 1, 1, 1, 0, 1, 0, 0,\n",
       "       0, 0, 1, 1, 1, 0, 1, 0, 0, 1, 0, 0, 1, 1, 0, 1, 1, 1, 0, 0, 0, 0,\n",
       "       1, 1, 1, 0, 0, 0, 1, 1, 1, 0, 1, 1, 0, 1, 1, 0, 0, 0, 0, 0, 1, 0,\n",
       "       1, 0, 1, 1, 1, 0, 0, 1, 1, 0])"
      ]
     },
     "execution_count": 60,
     "metadata": {},
     "output_type": "execute_result"
    }
   ],
   "source": [
    "y"
   ]
  },
  {
   "cell_type": "code",
   "execution_count": 61,
   "id": "54c10619",
   "metadata": {},
   "outputs": [],
   "source": [
    "class_cmap = ListedColormap(['blue', 'orange'])"
   ]
  },
  {
   "cell_type": "code",
   "execution_count": 62,
   "id": "d4837a4c",
   "metadata": {},
   "outputs": [
    {
     "data": {
      "text/plain": [
       "<matplotlib.collections.PathCollection at 0x27748cf9130>"
      ]
     },
     "execution_count": 62,
     "metadata": {},
     "output_type": "execute_result"
    },
    {
     "data": {
      "image/png": "[encoded data removed]",
      "text/plain": [
       "<Figure size 432x288 with 1 Axes>"
      ]
     },
     "metadata": {
      "needs_background": "light"
     },
     "output_type": "display_data"
    }
   ],
   "source": [
    "plt.scatter(X[:,0],X[:,1],c=y,cmap=ListedColormap(['blue', 'orange']))"
   ]
  },
  {
   "cell_type": "code",
   "execution_count": 63,
   "id": "904c13b2",
   "metadata": {},
   "outputs": [],
   "source": [
    "X_train,X_test, y_train, y_test = train_test_split(X,y)"
   ]
  },
  {
   "cell_type": "code",
   "execution_count": 65,
   "id": "b424c080",
   "metadata": {},
   "outputs": [],
   "source": [
    "tree = DecisionTreeClassifier(max_depth=4).fit(X_train, y_train)"
   ]
  },
  {
   "cell_type": "code",
   "execution_count": 67,
   "id": "f85c8930",
   "metadata": {},
   "outputs": [
    {
     "data": {
      "text/plain": [
       "1.0"
      ]
     },
     "execution_count": 67,
     "metadata": {},
     "output_type": "execute_result"
    }
   ],
   "source": [
    "tree.score(X_test, y_test)"
   ]
  },
  {
   "cell_type": "markdown",
   "id": "4ef952f7",
   "metadata": {},
   "source": [
    "Создаём координатные сетки для x1 и x2 (декартово произведение)"
   ]
  },
  {
   "cell_type": "code",
   "execution_count": 80,
   "id": "999c1bda",
   "metadata": {},
   "outputs": [],
   "source": [
    "x1_min, x1_max = X_train[:,0].min()-0.5, X_train[:,1].max()+0.5\n",
    "x2_min, x2_max = X_train[:,0].min()-0.5, X_train[:,1].max()+0.5\n"
   ]
  },
  {
   "cell_type": "code",
   "execution_count": 81,
   "id": "25fb8734",
   "metadata": {},
   "outputs": [],
   "source": [
    "xx1,xx2 = np.mgrid[x1_min:x1_max:50j, x2_min:x2_max:50j]"
   ]
  },
  {
   "cell_type": "code",
   "execution_count": 82,
   "id": "26a565ea",
   "metadata": {},
   "outputs": [
    {
     "data": {
      "text/plain": [
       "(50, 50)"
      ]
     },
     "execution_count": 82,
     "metadata": {},
     "output_type": "execute_result"
    }
   ],
   "source": [
    "xx1.shape"
   ]
  },
  {
   "cell_type": "markdown",
   "id": "827f9292",
   "metadata": {},
   "source": [
    "Построим из двух сеток данные для предсказания"
   ]
  },
  {
   "cell_type": "code",
   "execution_count": 83,
   "id": "49075b47",
   "metadata": {},
   "outputs": [],
   "source": [
    "X_pred = np.column_stack([xx1.reshape(-1), xx2.reshape(-1)])"
   ]
  },
  {
   "cell_type": "code",
   "execution_count": 84,
   "id": "947b6831",
   "metadata": {},
   "outputs": [
    {
     "data": {
      "text/plain": [
       "(2500, 2)"
      ]
     },
     "execution_count": 84,
     "metadata": {},
     "output_type": "execute_result"
    }
   ],
   "source": [
    "X_pred.shape"
   ]
  },
  {
   "cell_type": "code",
   "execution_count": 85,
   "id": "80b39778",
   "metadata": {},
   "outputs": [],
   "source": [
    "y_pred = tree.predict(X_pred)"
   ]
  },
  {
   "cell_type": "markdown",
   "id": "63269fa6",
   "metadata": {},
   "source": [
    "pcolormesh принимает x, y и z в виде сеток, поэтому делаем reshape y_pred"
   ]
  },
  {
   "cell_type": "code",
   "execution_count": 92,
   "id": "78257f3c",
   "metadata": {},
   "outputs": [
    {
     "data": {
      "image/png": "[encoded data removed]",
      "text/plain": [
       "<Figure size 432x288 with 1 Axes>"
      ]
     },
     "metadata": {
      "needs_background": "light"
     },
     "output_type": "display_data"
    }
   ],
   "source": [
    "plt.pcolormesh(xx1,xx2, y_pred.reshape(xx1.shape), cmap=class_cmap, alpha=0.3, shading='auto')\n",
    "plt.scatter(X_test[:,0], X_test[:,1], c=y_test, cmap=class_cmap)\n",
    "plt.show()"
   ]
  },
  {
   "cell_type": "code",
   "execution_count": null,
   "id": "b61b6972",
   "metadata": {},
   "outputs": [],
   "source": []
  }
 ],
 "metadata": {
  "kernelspec": {
   "display_name": "Python 3 (ipykernel)",
   "language": "python",
   "name": "python3"
  },
  "language_info": {
   "codemirror_mode": {
    "name": "ipython",
    "version": 3
   },
   "file_extension": ".py",
   "mimetype": "text/x-python",
   "name": "python",
   "nbconvert_exporter": "python",
   "pygments_lexer": "ipython3",
   "version": "3.9.7"
  }
 },
 "nbformat": 4,
 "nbformat_minor": 5
}
