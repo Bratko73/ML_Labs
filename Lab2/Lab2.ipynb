{
 "cells": [
  {
   "cell_type": "markdown",
   "id": "7341f63c",
   "metadata": {},
   "source": [
    "### Часть 1. Обработка табличных данных в Pandas. Подготовка данных."
   ]
  },
  {
   "cell_type": "markdown",
   "id": "df4c88f3",
   "metadata": {},
   "source": [
    "## Задание 1 \n",
    "Даны файлы orders.csv и products.csv. \n",
    "- Определите число уникальных продуктов в каждой категории.\n",
    "- Выведите все продукты в категории \"Морепродукты\".\n",
    "- Выведите график числа заказов за каждый прошедший месяц.\n",
    "- Заведите столбец \"OrderSum\" (сколько было оплачено за продукт по заказу, с учётом его количества, стоимости единицы товара и скидки). Определите самые дорогие заказы (сгруппировав по OrderID)\n",
    "- Определите продукты с максимальной стоимостью за шт. (не за единицу товара)\n"
   ]
  },
  {
   "cell_type": "code",
   "execution_count": 1,
   "id": "2cdd7173",
   "metadata": {},
   "outputs": [],
   "source": [
    "import numpy as np\n",
    "import matplotlib.pyplot as plt\n",
    "import pandas as pd"
   ]
  },
  {
   "cell_type": "code",
   "execution_count": 2,
   "id": "1debd8c9",
   "metadata": {},
   "outputs": [
    {
     "name": "stdout",
     "output_type": "stream",
     "text": [
      "   OrderID   OrderDate  ProductID  UnitPrice_x  Quantity  Discount  \\\n",
      "0    10248  2007-01-30         11        28.62        12       0.0   \n",
      "1    10296  2004-02-02         11        26.62        12       0.0   \n",
      "2    10327  2004-07-08         11        29.10        50       0.2   \n",
      "3    10353  2007-06-11         11        29.75        12       0.2   \n",
      "4    10365  2004-06-24         11        29.48        24       0.0   \n",
      "\n",
      "  ProductName  QuantityPerUnit  UnitCost  UnitPrice_y CategoryName  \n",
      "0        Киви               25      21.1         28.0       Фрукты  \n",
      "1        Киви               25      21.1         28.0       Фрукты  \n",
      "2        Киви               25      21.1         28.0       Фрукты  \n",
      "3        Киви               25      21.1         28.0       Фрукты  \n",
      "4        Киви               25      21.1         28.0       Фрукты  \n"
     ]
    }
   ],
   "source": [
    "orders = pd.read_csv('orders.csv')\n",
    "products = pd.read_csv('products.csv')\n",
    "opTable = pd.merge(orders,products, how = 'inner', on = 'ProductID')\n",
    "print(opTable.head())"
   ]
  },
  {
   "cell_type": "markdown",
   "id": "4fdb8ccc",
   "metadata": {},
   "source": [
    "#### Число уникальных продуктов в каждой категории:"
   ]
  },
  {
   "cell_type": "code",
   "execution_count": 3,
   "id": "caf5e67c",
   "metadata": {},
   "outputs": [
    {
     "name": "stdout",
     "output_type": "stream",
     "text": [
      "CategoryName\n",
      "Кондитерские изделия    561\n",
      "Крупы                    98\n",
      "Молочные продукты       122\n",
      "Морепродукты            157\n",
      "Мясо/Птица              199\n",
      "Овощи                   355\n",
      "Приправы                318\n",
      "Фрукты                  362\n",
      "Name: ProductName, dtype: int64\n"
     ]
    }
   ],
   "source": [
    "print(opTable.groupby(by='CategoryName')['ProductName'].count())"
   ]
  },
  {
   "cell_type": "markdown",
   "id": "41850907",
   "metadata": {},
   "source": [
    "#### Все продукты в категории \"Морепродукты\"."
   ]
  },
  {
   "cell_type": "code",
   "execution_count": 4,
   "id": "dc9d970a",
   "metadata": {},
   "outputs": [
    {
     "name": "stdout",
     "output_type": "stream",
     "text": [
      "      OrderID   OrderDate  ProductID  UnitPrice_x  Quantity  Discount  \\\n",
      "130     10249  2006-01-29         51       101.20        40      0.00   \n",
      "131     10250  2007-02-03         51        97.67        35      0.15   \n",
      "132     10291  2004-03-24         51       106.56         2      0.10   \n",
      "133     10335  2005-11-16         51       104.29        48      0.20   \n",
      "134     10362  2004-06-22         51       109.79        20      0.00   \n",
      "...       ...         ...        ...          ...       ...       ...   \n",
      "2167    10515  2004-12-18          9        42.05        16      0.15   \n",
      "2168    10687  2006-04-26          9        41.17        50      0.25   \n",
      "2169    10693  2006-05-02          9        35.30         6      0.00   \n",
      "2170    10848  2007-06-21          9        40.32         3      0.00   \n",
      "2171    11083  2006-06-16          9        38.90         5      0.00   \n",
      "\n",
      "     ProductName  QuantityPerUnit  UnitCost  UnitPrice_y  CategoryName  \n",
      "130        Мидии               10     82.74         99.9  Морепродукты  \n",
      "131        Мидии               10     82.74         99.9  Морепродукты  \n",
      "132        Мидии               10     82.74         99.9  Морепродукты  \n",
      "133        Мидии               10     82.74         99.9  Морепродукты  \n",
      "134        Мидии               10     82.74         99.9  Морепродукты  \n",
      "...          ...              ...       ...          ...           ...  \n",
      "2167       Омары               10     32.90         39.0  Морепродукты  \n",
      "2168       Омары               10     32.90         39.0  Морепродукты  \n",
      "2169       Омары               10     32.90         39.0  Морепродукты  \n",
      "2170       Омары               10     32.90         39.0  Морепродукты  \n",
      "2171       Омары               10     32.90         39.0  Морепродукты  \n",
      "\n",
      "[157 rows x 11 columns]\n"
     ]
    }
   ],
   "source": [
    "print(opTable[opTable['CategoryName'] == 'Морепродукты'])"
   ]
  },
  {
   "cell_type": "markdown",
   "id": "9ceda547",
   "metadata": {},
   "source": [
    "#### График числа заказов за каждый прошедший месяц."
   ]
  },
  {
   "cell_type": "code",
   "execution_count": 5,
   "id": "920b5b23",
   "metadata": {},
   "outputs": [
    {
     "data": {
      "image/png": "[encoded data removed]",
      "text/plain": [
       "<Figure size 432x288 with 1 Axes>"
      ]
     },
     "metadata": {
      "needs_background": "light"
     },
     "output_type": "display_data"
    }
   ],
   "source": [
    "opT = opTable.copy()\n",
    "opT.index = pd.to_datetime(opTable['OrderDate'])\n",
    "opT.groupby(by=[opT.index.month])['Quantity'].count().plot()\n",
    "plt.title('Число заказов за месяц')\n",
    "plt.ylabel('Кол-во заказов')\n",
    "plt.xlabel('Месяц')\n",
    "plt.show()"
   ]
  },
  {
   "cell_type": "markdown",
   "id": "b615e15d",
   "metadata": {},
   "source": [
    "#### Cтолбец \"OrderSum\" (сколько было оплачено за продукт по заказу, с учётом его количества, стоимости единицы товара и скидки)."
   ]
  },
  {
   "cell_type": "code",
   "execution_count": 6,
   "id": "e9b22521",
   "metadata": {},
   "outputs": [
    {
     "name": "stdout",
     "output_type": "stream",
     "text": [
      "      OrderID   OrderDate  ProductID  UnitPrice_x  Quantity  Discount  \\\n",
      "0       10248  2007-01-30         11        28.62        12      0.00   \n",
      "1       10296  2004-02-02         11        26.62        12      0.00   \n",
      "2       10327  2004-07-08         11        29.10        50      0.20   \n",
      "3       10353  2007-06-11         11        29.75        12      0.20   \n",
      "4       10365  2004-06-24         11        29.48        24      0.00   \n",
      "...       ...         ...        ...          ...       ...       ...   \n",
      "2167    10515  2004-12-18          9        42.05        16      0.15   \n",
      "2168    10687  2006-04-26          9        41.17        50      0.25   \n",
      "2169    10693  2006-05-02          9        35.30         6      0.00   \n",
      "2170    10848  2007-06-21          9        40.32         3      0.00   \n",
      "2171    11083  2006-06-16          9        38.90         5      0.00   \n",
      "\n",
      "     ProductName  QuantityPerUnit  UnitCost  UnitPrice_y  CategoryName  \\\n",
      "0           Киви               25      21.1         28.0        Фрукты   \n",
      "1           Киви               25      21.1         28.0        Фрукты   \n",
      "2           Киви               25      21.1         28.0        Фрукты   \n",
      "3           Киви               25      21.1         28.0        Фрукты   \n",
      "4           Киви               25      21.1         28.0        Фрукты   \n",
      "...          ...              ...       ...          ...           ...   \n",
      "2167       Омары               10      32.9         39.0  Морепродукты   \n",
      "2168       Омары               10      32.9         39.0  Морепродукты   \n",
      "2169       Омары               10      32.9         39.0  Морепродукты   \n",
      "2170       Омары               10      32.9         39.0  Морепродукты   \n",
      "2171       Омары               10      32.9         39.0  Морепродукты   \n",
      "\n",
      "          OrderSum  \n",
      "0      8400.000000  \n",
      "1      7986.000000  \n",
      "2     27999.999896  \n",
      "3      6719.999975  \n",
      "4     16800.000000  \n",
      "...            ...  \n",
      "2167   5303.999963  \n",
      "2168  14625.000000  \n",
      "2169   2118.000000  \n",
      "2170   1170.000000  \n",
      "2171   1945.000000  \n",
      "\n",
      "[2172 rows x 12 columns]\n"
     ]
    }
   ],
   "source": [
    "opTable['OrderSum'] = np.where(opTable['UnitPrice_x']<opTable['UnitPrice_y'],\n",
    "                              opTable['Quantity']*opTable['QuantityPerUnit']*opTable['UnitPrice_x']*(1 - opTable['Discount']),\n",
    "                              opTable['Quantity']*opTable['QuantityPerUnit']*opTable['UnitPrice_y']*(1 - opTable['Discount']))\n",
    "print(opTable)"
   ]
  },
  {
   "cell_type": "markdown",
   "id": "905c79f8",
   "metadata": {},
   "source": [
    "#### Продукты с максимальной стоимостью за шт. (не за единицу товара)"
   ]
  },
  {
   "cell_type": "code",
   "execution_count": 7,
   "id": "111d5984",
   "metadata": {},
   "outputs": [
    {
     "name": "stdout",
     "output_type": "stream",
     "text": [
      "ProductName\n",
      "Абрикос                   3.90\n",
      "Ананас                   24.98\n",
      "Апельсин                 16.17\n",
      "Бадьян                   37.17\n",
      "Баклажан                 62.38\n",
      "                         ...  \n",
      "Чеснок                    8.68\n",
      "Чупа-Чупс                 6.69\n",
      "Шоколад Молочное Чудо    25.39\n",
      "Шоколад Снежинка         22.24\n",
      "Яблоко                    4.72\n",
      "Name: UnitCost, Length: 77, dtype: float64\n"
     ]
    }
   ],
   "source": [
    "print(opTable.groupby(by= 'ProductName')['UnitCost'].max())"
   ]
  },
  {
   "cell_type": "markdown",
   "id": "de2f6c05",
   "metadata": {},
   "source": [
    "## Задание 2."
   ]
  },
  {
   "cell_type": "markdown",
   "id": "8258a2aa",
   "metadata": {},
   "source": [
    "#### 1) Для каждой категории продуктов выведите средний доход от продаж. (OrderSum)"
   ]
  },
  {
   "cell_type": "code",
   "execution_count": 8,
   "id": "fd80830c",
   "metadata": {},
   "outputs": [
    {
     "name": "stdout",
     "output_type": "stream",
     "text": [
      "CategoryName\n",
      "Кондитерские изделия     8709.100693\n",
      "Крупы                   17404.622455\n",
      "Молочные продукты        2840.062750\n",
      "Морепродукты            15255.808328\n",
      "Мясо/Птица              10097.960198\n",
      "Овощи                    9794.782531\n",
      "Приправы                 5428.101313\n",
      "Фрукты                   6217.679206\n",
      "Name: OrderSum, dtype: float64\n"
     ]
    }
   ],
   "source": [
    "print(opTable.groupby(by = 'CategoryName')[\"OrderSum\"].mean())"
   ]
  },
  {
   "cell_type": "markdown",
   "id": "f451c467",
   "metadata": {},
   "source": [
    "#### 2) Введите столбец \"Profit\" - разность между доходами и приблизительной закупочной стоимостью проданных товаров."
   ]
  },
  {
   "cell_type": "code",
   "execution_count": 9,
   "id": "d6d50a50",
   "metadata": {},
   "outputs": [
    {
     "name": "stdout",
     "output_type": "stream",
     "text": [
      "      OrderID   OrderDate  ProductID  UnitPrice_x  Quantity  Discount  \\\n",
      "0       10248  2007-01-30         11        28.62        12      0.00   \n",
      "1       10296  2004-02-02         11        26.62        12      0.00   \n",
      "2       10327  2004-07-08         11        29.10        50      0.20   \n",
      "3       10353  2007-06-11         11        29.75        12      0.20   \n",
      "4       10365  2004-06-24         11        29.48        24      0.00   \n",
      "...       ...         ...        ...          ...       ...       ...   \n",
      "2167    10515  2004-12-18          9        42.05        16      0.15   \n",
      "2168    10687  2006-04-26          9        41.17        50      0.25   \n",
      "2169    10693  2006-05-02          9        35.30         6      0.00   \n",
      "2170    10848  2007-06-21          9        40.32         3      0.00   \n",
      "2171    11083  2006-06-16          9        38.90         5      0.00   \n",
      "\n",
      "     ProductName  QuantityPerUnit  UnitCost  UnitPrice_y  CategoryName  \\\n",
      "0           Киви               25      21.1         28.0        Фрукты   \n",
      "1           Киви               25      21.1         28.0        Фрукты   \n",
      "2           Киви               25      21.1         28.0        Фрукты   \n",
      "3           Киви               25      21.1         28.0        Фрукты   \n",
      "4           Киви               25      21.1         28.0        Фрукты   \n",
      "...          ...              ...       ...          ...           ...   \n",
      "2167       Омары               10      32.9         39.0  Морепродукты   \n",
      "2168       Омары               10      32.9         39.0  Морепродукты   \n",
      "2169       Омары               10      32.9         39.0  Морепродукты   \n",
      "2170       Омары               10      32.9         39.0  Морепродукты   \n",
      "2171       Омары               10      32.9         39.0  Морепродукты   \n",
      "\n",
      "          OrderSum       Profit  \n",
      "0      8400.000000  2070.000000  \n",
      "1      7986.000000  1656.000000  \n",
      "2     27999.999896  1624.999896  \n",
      "3      6719.999975   389.999975  \n",
      "4     16800.000000  4140.000000  \n",
      "...            ...          ...  \n",
      "2167   5303.999963    39.999963  \n",
      "2168  14625.000000 -1825.000000  \n",
      "2169   2118.000000   144.000000  \n",
      "2170   1170.000000   183.000000  \n",
      "2171   1945.000000   300.000000  \n",
      "\n",
      "[2172 rows x 13 columns]\n"
     ]
    }
   ],
   "source": [
    "opTable['Profit'] = opTable['OrderSum'] - opTable['Quantity']*opTable['QuantityPerUnit']*opTable['UnitCost']\n",
    "print(opTable)"
   ]
  },
  {
   "cell_type": "markdown",
   "id": "67b9b9fe",
   "metadata": {},
   "source": [
    "#### 3) Найдите по убыванию суммарной прибыли категории товаров, обеспечивающие её 80 процентов. Выведите аналогичные данные только за 2005 и 2006 год."
   ]
  },
  {
   "cell_type": "code",
   "execution_count": 10,
   "id": "ea52dd66",
   "metadata": {},
   "outputs": [
    {
     "name": "stdout",
     "output_type": "stream",
     "text": [
      "1780532.3606728408\n"
     ]
    }
   ],
   "source": [
    "profitSum = opTable['Profit'].sum()\n",
    "print(profitSum)"
   ]
  },
  {
   "cell_type": "code",
   "execution_count": 11,
   "id": "ed0df6ef",
   "metadata": {},
   "outputs": [
    {
     "name": "stdout",
     "output_type": "stream",
     "text": [
      "CategoryName\n",
      "Молочные продукты       0.021175\n",
      "Мясо/Птица              0.089518\n",
      "Приправы                0.091549\n",
      "Фрукты                  0.097989\n",
      "Морепродукты            0.107818\n",
      "Крупы                   0.111922\n",
      "Кондитерские изделия    0.235817\n",
      "Овощи                   0.244212\n",
      "Name: Profit, dtype: float64\n"
     ]
    }
   ],
   "source": [
    "opT = opTable.groupby(by = 'CategoryName')['Profit'].sum() / profitSum\n",
    "print(opT.sort_values())"
   ]
  },
  {
   "cell_type": "code",
   "execution_count": 12,
   "id": "e9e9d3cd",
   "metadata": {},
   "outputs": [
    {
     "name": "stdout",
     "output_type": "stream",
     "text": [
      "80% profit categories: \n",
      "\n",
      "Кондитерские изделия - 0.23581743759768728\n",
      "Крупы - 0.11192170664965735\n",
      "Молочные продукты - 0.02117549017792868\n",
      "Морепродукты - 0.10781818498465101\n",
      "Мясо/Птица - 0.0895180525518051\n"
     ]
    }
   ],
   "source": [
    "print('80% profit categories: \\n')\n",
    "sum = 0\n",
    "for i in range(len(opT)):\n",
    "    sum += opT[i]\n",
    "    if(sum <= 0.8):\n",
    "        print(opT.index[i] + ' - ' + str(opT[i]))\n"
   ]
  },
  {
   "cell_type": "markdown",
   "id": "afde7de4",
   "metadata": {},
   "source": [
    "#### 4) *Введите интегральный показатель, оценивающий насколько хорошо растут продажи в выборке данных из таблицы. Обоснуйте выбор показателя и сравните категории по нему."
   ]
  },
  {
   "cell_type": "code",
   "execution_count": null,
   "id": "f653d3b2",
   "metadata": {},
   "outputs": [],
   "source": []
  },
  {
   "cell_type": "markdown",
   "id": "22c7ce60",
   "metadata": {},
   "source": [
    "## Задание 3 Для датасета California Housing:\n"
   ]
  },
  {
   "cell_type": "markdown",
   "id": "72cbebb8",
   "metadata": {},
   "source": [
    "#### 1)Разбейте датасет на тренировочную, валидационную и тестовую выборку"
   ]
  },
  {
   "cell_type": "code",
   "execution_count": 13,
   "id": "12969074",
   "metadata": {},
   "outputs": [
    {
     "name": "stdout",
     "output_type": "stream",
     "text": [
      "   longitude  latitude  housing_median_age  total_rooms  total_bedrooms  \\\n",
      "0    -122.23     37.88                41.0        880.0           129.0   \n",
      "1    -122.22     37.86                21.0       7099.0          1106.0   \n",
      "2    -122.24     37.85                52.0       1467.0           190.0   \n",
      "3    -122.25     37.85                52.0       1274.0           235.0   \n",
      "4    -122.25     37.85                52.0       1627.0           280.0   \n",
      "\n",
      "   population  households  median_income  median_house_value ocean_proximity  \n",
      "0       322.0       126.0         8.3252            452600.0        NEAR BAY  \n",
      "1      2401.0      1138.0         8.3014            358500.0        NEAR BAY  \n",
      "2       496.0       177.0         7.2574            352100.0        NEAR BAY  \n",
      "3       558.0       219.0         5.6431            341300.0        NEAR BAY  \n",
      "4       565.0       259.0         3.8462            342200.0        NEAR BAY  \n"
     ]
    }
   ],
   "source": [
    "housing = pd.read_csv('housing.csv')\n",
    "print(housing.head())"
   ]
  },
  {
   "cell_type": "code",
   "execution_count": 15,
   "id": "038bf776",
   "metadata": {},
   "outputs": [],
   "source": [
    "from sklearn.model_selection import train_test_split"
   ]
  },
  {
   "cell_type": "code",
   "execution_count": 18,
   "id": "e01a1015",
   "metadata": {},
   "outputs": [
    {
     "name": "stdout",
     "output_type": "stream",
     "text": [
      "(13209, 10) (3303, 10) (4128, 10)\n"
     ]
    }
   ],
   "source": [
    "train_val, test = train_test_split(housing, test_size = 0.2)\n",
    "train, val = train_test_split(train_val, test_size= 0.2)\n",
    "print(train.shape,val.shape,test.shape)"
   ]
  },
  {
   "cell_type": "markdown",
   "id": "a470aa08",
   "metadata": {},
   "source": [
    "#### 2) Проведите преобразование категориального признака ocean_proximity через OneHot или Dummy-кодировку"
   ]
  },
  {
   "cell_type": "code",
   "execution_count": 19,
   "id": "e5f97429",
   "metadata": {},
   "outputs": [
    {
     "name": "stdout",
     "output_type": "stream",
     "text": [
      "       longitude  latitude  housing_median_age  total_rooms  total_bedrooms  \\\n",
      "10238    -117.88     33.90                21.0       3180.0           434.0   \n",
      "12343    -116.52     33.85                13.0       7559.0          1444.0   \n",
      "20597    -121.58     39.16                33.0       1897.0           378.0   \n",
      "9786     -121.00     35.94                16.0       3077.0           628.0   \n",
      "9623     -120.31     37.29                40.0       1542.0           341.0   \n",
      "...          ...       ...                 ...          ...             ...   \n",
      "12206    -117.05     33.52                 5.0       3471.0           530.0   \n",
      "15842    -122.42     37.74                52.0       2713.0           624.0   \n",
      "4094     -118.40     34.15                41.0       2394.0           500.0   \n",
      "20123    -119.06     34.62                10.0        416.0           110.0   \n",
      "4920     -118.25     34.00                36.0       1176.0           309.0   \n",
      "\n",
      "       population  households  median_income  median_house_value  \\\n",
      "10238      1413.0       391.0         6.5945            277300.0   \n",
      "12343      3189.0      1105.0         3.4886            112500.0   \n",
      "20597       888.0       385.0         2.1111             68700.0   \n",
      "9786       1479.0       536.0         3.3724            114600.0   \n",
      "9623       1283.0       341.0         1.6929             55900.0   \n",
      "...           ...         ...            ...                 ...   \n",
      "12206      1541.0       502.0         4.8083            347700.0   \n",
      "15842      1370.0       594.0         4.6547            325700.0   \n",
      "4094        837.0       417.0         4.3889            380400.0   \n",
      "20123       436.0        70.0         2.2222            262500.0   \n",
      "4920       1267.0       292.0         1.6382            105000.0   \n",
      "\n",
      "       ocean_proximity_<1H OCEAN  ocean_proximity_INLAND  \\\n",
      "10238                          1                       0   \n",
      "12343                          0                       1   \n",
      "20597                          0                       1   \n",
      "9786                           1                       0   \n",
      "9623                           0                       1   \n",
      "...                          ...                     ...   \n",
      "12206                          1                       0   \n",
      "15842                          0                       0   \n",
      "4094                           1                       0   \n",
      "20123                          1                       0   \n",
      "4920                           1                       0   \n",
      "\n",
      "       ocean_proximity_ISLAND  ocean_proximity_NEAR BAY  \\\n",
      "10238                       0                         0   \n",
      "12343                       0                         0   \n",
      "20597                       0                         0   \n",
      "9786                        0                         0   \n",
      "9623                        0                         0   \n",
      "...                       ...                       ...   \n",
      "12206                       0                         0   \n",
      "15842                       0                         1   \n",
      "4094                        0                         0   \n",
      "20123                       0                         0   \n",
      "4920                        0                         0   \n",
      "\n",
      "       ocean_proximity_NEAR OCEAN  \n",
      "10238                           0  \n",
      "12343                           0  \n",
      "20597                           0  \n",
      "9786                            0  \n",
      "9623                            0  \n",
      "...                           ...  \n",
      "12206                           0  \n",
      "15842                           0  \n",
      "4094                            0  \n",
      "20123                           0  \n",
      "4920                            0  \n",
      "\n",
      "[13209 rows x 14 columns]\n"
     ]
    }
   ],
   "source": [
    "housing_dummy = pd.get_dummies(train,columns = ['ocean_proximity'])\n",
    "print(housing_dummy)"
   ]
  },
  {
   "cell_type": "markdown",
   "id": "aec7e3dd",
   "metadata": {},
   "source": [
    "#### 3) Замените признаки total_rooms и total_bedrooms на average_rooms и average_bedrooms (поделив на households)."
   ]
  },
  {
   "cell_type": "code",
   "execution_count": 20,
   "id": "2943915a",
   "metadata": {},
   "outputs": [
    {
     "name": "stdout",
     "output_type": "stream",
     "text": [
      "   longitude  latitude  housing_median_age  total_rooms  total_bedrooms  \\\n",
      "0    -122.23     37.88                41.0     6.984127        1.023810   \n",
      "1    -122.22     37.86                21.0     6.238137        0.971880   \n",
      "2    -122.24     37.85                52.0     8.288136        1.073446   \n",
      "3    -122.25     37.85                52.0     5.817352        1.073059   \n",
      "4    -122.25     37.85                52.0     6.281853        1.081081   \n",
      "\n",
      "   population  households  median_income  median_house_value ocean_proximity  \n",
      "0       322.0       126.0         8.3252            452600.0        NEAR BAY  \n",
      "1      2401.0      1138.0         8.3014            358500.0        NEAR BAY  \n",
      "2       496.0       177.0         7.2574            352100.0        NEAR BAY  \n",
      "3       558.0       219.0         5.6431            341300.0        NEAR BAY  \n",
      "4       565.0       259.0         3.8462            342200.0        NEAR BAY  \n"
     ]
    }
   ],
   "source": [
    "housing['total_bedrooms'] /= housing['households']\n",
    "housing['total_rooms'] /= housing['households']\n",
    "print(housing.head())"
   ]
  },
  {
   "cell_type": "markdown",
   "id": "98f3c6ce",
   "metadata": {},
   "source": [
    "#### 4) В признаке average_bedrooms (total_bedrooms) есть отсутствующие значения. Определите число экземпляров данных, для которых этот признак отсутствует. Придумайте и обоснуйте стратегию заполнения пропусков в этой задаче. Заполните пропуски."
   ]
  },
  {
   "cell_type": "code",
   "execution_count": 21,
   "id": "8a1b080b",
   "metadata": {},
   "outputs": [
    {
     "name": "stdout",
     "output_type": "stream",
     "text": [
      "longitude               0\n",
      "latitude                0\n",
      "housing_median_age      0\n",
      "total_rooms             0\n",
      "total_bedrooms        207\n",
      "population              0\n",
      "households              0\n",
      "median_income           0\n",
      "median_house_value      0\n",
      "ocean_proximity         0\n",
      "dtype: int64\n"
     ]
    }
   ],
   "source": [
    "print(housing.isna().sum())"
   ]
  },
  {
   "cell_type": "markdown",
   "id": "fe649e47",
   "metadata": {},
   "source": [
    "Логичным кажется заполнить пустые значения средними по столбцу."
   ]
  },
  {
   "cell_type": "code",
   "execution_count": 24,
   "id": "d9704277",
   "metadata": {},
   "outputs": [
    {
     "name": "stdout",
     "output_type": "stream",
     "text": [
      "longitude             0\n",
      "latitude              0\n",
      "housing_median_age    0\n",
      "total_rooms           0\n",
      "total_bedrooms        0\n",
      "population            0\n",
      "households            0\n",
      "median_income         0\n",
      "median_house_value    0\n",
      "ocean_proximity       0\n",
      "dtype: int64\n"
     ]
    }
   ],
   "source": [
    "housing['total_bedrooms'].fillna(value= housing['total_bedrooms'].mean(),inplace=True)\n",
    "print(housing.isna().sum())"
   ]
  },
  {
   "cell_type": "markdown",
   "id": "a00ed7fe",
   "metadata": {},
   "source": [
    "#### 5) Нормализуйте признаки longitude и latitude (сделайте так, чтобы каждый признак имел среднее значение 0 и дисперсию 1 внутри обучающей выборки)"
   ]
  },
  {
   "cell_type": "code",
   "execution_count": 25,
   "id": "ab660fb5",
   "metadata": {},
   "outputs": [],
   "source": [
    "from sklearn.preprocessing import StandardScaler"
   ]
  },
  {
   "cell_type": "code",
   "execution_count": 26,
   "id": "8fb401eb",
   "metadata": {},
   "outputs": [
    {
     "name": "stdout",
     "output_type": "stream",
     "text": [
      "iloc: \n",
      "       longitude  latitude\n",
      "0        -122.23     37.88\n",
      "1        -122.22     37.86\n",
      "2        -122.24     37.85\n",
      "3        -122.25     37.85\n",
      "4        -122.25     37.85\n",
      "...          ...       ...\n",
      "20635    -121.09     39.48\n",
      "20636    -121.21     39.49\n",
      "20637    -121.22     39.43\n",
      "20638    -121.32     39.43\n",
      "20639    -121.24     39.37\n",
      "\n",
      "[20640 rows x 2 columns]\n"
     ]
    }
   ],
   "source": [
    "scaler = StandardScaler()\n",
    "print(\"iloc: \")\n",
    "print(housing.iloc[:,0:2])"
   ]
  },
  {
   "cell_type": "code",
   "execution_count": 28,
   "id": "914e16f0",
   "metadata": {},
   "outputs": [
    {
     "name": "stdout",
     "output_type": "stream",
     "text": [
      "       longitude  latitude  housing_median_age  total_rooms  total_bedrooms  \\\n",
      "0      -1.327835  1.052548                41.0     6.984127        1.023810   \n",
      "1      -1.322844  1.043185                21.0     6.238137        0.971880   \n",
      "2      -1.332827  1.038503                52.0     8.288136        1.073446   \n",
      "3      -1.337818  1.038503                52.0     5.817352        1.073059   \n",
      "4      -1.337818  1.038503                52.0     6.281853        1.081081   \n",
      "...          ...       ...                 ...          ...             ...   \n",
      "20635  -0.758826  1.801647                25.0     5.045455        1.133333   \n",
      "20636  -0.818722  1.806329                18.0     6.114035        1.315789   \n",
      "20637  -0.823713  1.778237                17.0     5.205543        1.120092   \n",
      "20638  -0.873626  1.778237                18.0     5.329513        1.171920   \n",
      "20639  -0.833696  1.750146                16.0     5.254717        1.162264   \n",
      "\n",
      "       population  households  median_income  median_house_value  \\\n",
      "0           322.0       126.0         8.3252            452600.0   \n",
      "1          2401.0      1138.0         8.3014            358500.0   \n",
      "2           496.0       177.0         7.2574            352100.0   \n",
      "3           558.0       219.0         5.6431            341300.0   \n",
      "4           565.0       259.0         3.8462            342200.0   \n",
      "...           ...         ...            ...                 ...   \n",
      "20635       845.0       330.0         1.5603             78100.0   \n",
      "20636       356.0       114.0         2.5568             77100.0   \n",
      "20637      1007.0       433.0         1.7000             92300.0   \n",
      "20638       741.0       349.0         1.8672             84700.0   \n",
      "20639      1387.0       530.0         2.3886             89400.0   \n",
      "\n",
      "      ocean_proximity  \n",
      "0            NEAR BAY  \n",
      "1            NEAR BAY  \n",
      "2            NEAR BAY  \n",
      "3            NEAR BAY  \n",
      "4            NEAR BAY  \n",
      "...               ...  \n",
      "20635          INLAND  \n",
      "20636          INLAND  \n",
      "20637          INLAND  \n",
      "20638          INLAND  \n",
      "20639          INLAND  \n",
      "\n",
      "[20640 rows x 10 columns]\n"
     ]
    }
   ],
   "source": [
    "housing.iloc[:,0:2] = scaler.fit_transform(housing.iloc[:,0:2].to_numpy())\n",
    "print(housing)"
   ]
  },
  {
   "cell_type": "markdown",
   "id": "2ba6afc5",
   "metadata": {},
   "source": [
    "# Часть 2. Машинное обучение. Классификация и регрессия.\n",
    "### Задание 1. \n",
    "Для датасета Davis:\n",
    "#### 1) Удалите некорректные данные"
   ]
  },
  {
   "cell_type": "code",
   "execution_count": 29,
   "id": "185cdb3c",
   "metadata": {},
   "outputs": [],
   "source": [
    "davis = pd.read_csv('Davis.csv')"
   ]
  },
  {
   "cell_type": "code",
   "execution_count": 31,
   "id": "ab324dd8",
   "metadata": {},
   "outputs": [
    {
     "data": {
      "text/html": [
       "<div>\n",
       "<style scoped>\n",
       "    .dataframe tbody tr th:only-of-type {\n",
       "        vertical-align: middle;\n",
       "    }\n",
       "\n",
       "    .dataframe tbody tr th {\n",
       "        vertical-align: top;\n",
       "    }\n",
       "\n",
       "    .dataframe thead th {\n",
       "        text-align: right;\n",
       "    }\n",
       "</style>\n",
       "<table border=\"1\" class=\"dataframe\">\n",
       "  <thead>\n",
       "    <tr style=\"text-align: right;\">\n",
       "      <th></th>\n",
       "      <th>Unnamed: 0</th>\n",
       "      <th>sex</th>\n",
       "      <th>weight</th>\n",
       "      <th>height</th>\n",
       "      <th>repwt</th>\n",
       "      <th>repht</th>\n",
       "    </tr>\n",
       "  </thead>\n",
       "  <tbody>\n",
       "    <tr>\n",
       "      <th>0</th>\n",
       "      <td>1</td>\n",
       "      <td>M</td>\n",
       "      <td>77</td>\n",
       "      <td>182</td>\n",
       "      <td>77.0</td>\n",
       "      <td>180.0</td>\n",
       "    </tr>\n",
       "    <tr>\n",
       "      <th>1</th>\n",
       "      <td>2</td>\n",
       "      <td>F</td>\n",
       "      <td>58</td>\n",
       "      <td>161</td>\n",
       "      <td>51.0</td>\n",
       "      <td>159.0</td>\n",
       "    </tr>\n",
       "    <tr>\n",
       "      <th>2</th>\n",
       "      <td>3</td>\n",
       "      <td>F</td>\n",
       "      <td>53</td>\n",
       "      <td>161</td>\n",
       "      <td>54.0</td>\n",
       "      <td>158.0</td>\n",
       "    </tr>\n",
       "    <tr>\n",
       "      <th>3</th>\n",
       "      <td>4</td>\n",
       "      <td>M</td>\n",
       "      <td>68</td>\n",
       "      <td>177</td>\n",
       "      <td>70.0</td>\n",
       "      <td>175.0</td>\n",
       "    </tr>\n",
       "    <tr>\n",
       "      <th>4</th>\n",
       "      <td>5</td>\n",
       "      <td>F</td>\n",
       "      <td>59</td>\n",
       "      <td>157</td>\n",
       "      <td>59.0</td>\n",
       "      <td>155.0</td>\n",
       "    </tr>\n",
       "  </tbody>\n",
       "</table>\n",
       "</div>"
      ],
      "text/plain": [
       "   Unnamed: 0 sex  weight  height  repwt  repht\n",
       "0           1   M      77     182   77.0  180.0\n",
       "1           2   F      58     161   51.0  159.0\n",
       "2           3   F      53     161   54.0  158.0\n",
       "3           4   M      68     177   70.0  175.0\n",
       "4           5   F      59     157   59.0  155.0"
      ]
     },
     "execution_count": 31,
     "metadata": {},
     "output_type": "execute_result"
    }
   ],
   "source": [
    "davis.head()"
   ]
  },
  {
   "cell_type": "code",
   "execution_count": 33,
   "id": "56b55168",
   "metadata": {},
   "outputs": [
    {
     "data": {
      "text/html": [
       "<div>\n",
       "<style scoped>\n",
       "    .dataframe tbody tr th:only-of-type {\n",
       "        vertical-align: middle;\n",
       "    }\n",
       "\n",
       "    .dataframe tbody tr th {\n",
       "        vertical-align: top;\n",
       "    }\n",
       "\n",
       "    .dataframe thead th {\n",
       "        text-align: right;\n",
       "    }\n",
       "</style>\n",
       "<table border=\"1\" class=\"dataframe\">\n",
       "  <thead>\n",
       "    <tr style=\"text-align: right;\">\n",
       "      <th></th>\n",
       "      <th>sex</th>\n",
       "      <th>weight</th>\n",
       "      <th>height</th>\n",
       "      <th>repwt</th>\n",
       "      <th>repht</th>\n",
       "    </tr>\n",
       "  </thead>\n",
       "  <tbody>\n",
       "    <tr>\n",
       "      <th>0</th>\n",
       "      <td>M</td>\n",
       "      <td>77</td>\n",
       "      <td>182</td>\n",
       "      <td>77.0</td>\n",
       "      <td>180.0</td>\n",
       "    </tr>\n",
       "    <tr>\n",
       "      <th>1</th>\n",
       "      <td>F</td>\n",
       "      <td>58</td>\n",
       "      <td>161</td>\n",
       "      <td>51.0</td>\n",
       "      <td>159.0</td>\n",
       "    </tr>\n",
       "    <tr>\n",
       "      <th>2</th>\n",
       "      <td>F</td>\n",
       "      <td>53</td>\n",
       "      <td>161</td>\n",
       "      <td>54.0</td>\n",
       "      <td>158.0</td>\n",
       "    </tr>\n",
       "    <tr>\n",
       "      <th>3</th>\n",
       "      <td>M</td>\n",
       "      <td>68</td>\n",
       "      <td>177</td>\n",
       "      <td>70.0</td>\n",
       "      <td>175.0</td>\n",
       "    </tr>\n",
       "    <tr>\n",
       "      <th>4</th>\n",
       "      <td>F</td>\n",
       "      <td>59</td>\n",
       "      <td>157</td>\n",
       "      <td>59.0</td>\n",
       "      <td>155.0</td>\n",
       "    </tr>\n",
       "  </tbody>\n",
       "</table>\n",
       "</div>"
      ],
      "text/plain": [
       "  sex  weight  height  repwt  repht\n",
       "0   M      77     182   77.0  180.0\n",
       "1   F      58     161   51.0  159.0\n",
       "2   F      53     161   54.0  158.0\n",
       "3   M      68     177   70.0  175.0\n",
       "4   F      59     157   59.0  155.0"
      ]
     },
     "execution_count": 33,
     "metadata": {},
     "output_type": "execute_result"
    }
   ],
   "source": [
    "davis.drop('Unnamed: 0', axis=1, inplace=True)\n",
    "davis.head()"
   ]
  },
  {
   "cell_type": "code",
   "execution_count": 35,
   "id": "0daae995",
   "metadata": {},
   "outputs": [
    {
     "name": "stdout",
     "output_type": "stream",
     "text": [
      "sex        0\n",
      "weight     0\n",
      "height     0\n",
      "repwt     17\n",
      "repht     17\n",
      "dtype: int64 \n",
      "\n",
      "sex       0\n",
      "weight    0\n",
      "height    0\n",
      "repwt     0\n",
      "repht     0\n",
      "dtype: int64\n"
     ]
    }
   ],
   "source": [
    "print(davis.isna().sum(),'\\n')\n",
    "davis.dropna(inplace=True)\n",
    "print(davis.isna().sum())"
   ]
  },
  {
   "cell_type": "markdown",
   "id": "e4114d8f",
   "metadata": {},
   "source": [
    "#### 2) Выделите тестовую выборку из 50 экземпляров"
   ]
  },
  {
   "cell_type": "code",
   "execution_count": 38,
   "id": "7d6ad4c0",
   "metadata": {},
   "outputs": [],
   "source": [
    "train,test = train_test_split(davis,test_size=50)"
   ]
  },
  {
   "cell_type": "markdown",
   "id": "17d0c80c",
   "metadata": {},
   "source": [
    "#### 3) На тренировочных данных постройте:\n",
    "- Гистограмму height\n",
    "- Гистограмму weight\n",
    "- Эти же гистограммы для разных полов"
   ]
  },
  {
   "cell_type": "code",
   "execution_count": 39,
   "id": "d83fdd29",
   "metadata": {},
   "outputs": [],
   "source": [
    "import seaborn as sns"
   ]
  },
  {
   "cell_type": "code",
   "execution_count": 64,
   "id": "c4c07b8b",
   "metadata": {},
   "outputs": [
    {
     "data": {
      "image/png": "[encoded data removed]",
      "text/plain": [
       "<Figure size 864x432 with 2 Axes>"
      ]
     },
     "metadata": {
      "needs_background": "light"
     },
     "output_type": "display_data"
    }
   ],
   "source": [
    "fig, axes = plt.subplots(1,2,figsize = (12,6))\n",
    "sns.histplot(davis['height'], color='magenta',label='Height',ax = axes[0])\n",
    "sns.histplot(davis['weight'], color='red',label='Weight',ax = axes[1])\n",
    "fig.legend()\n",
    "plt.show()"
   ]
  },
  {
   "cell_type": "code",
   "execution_count": 68,
   "id": "940e955f",
   "metadata": {},
   "outputs": [
    {
     "data": {
      "image/png": "[encoded data removed]",
      "text/plain": [
       "<Figure size 864x432 with 2 Axes>"
      ]
     },
     "metadata": {
      "needs_background": "light"
     },
     "output_type": "display_data"
    }
   ],
   "source": [
    "fig, axes = plt.subplots(1,2,figsize = (12,6))\n",
    "sns.histplot(davis[davis['sex'] == 'M']['height'], color='blue', label='Men Height',ax = axes[0])\n",
    "sns.histplot(davis[davis['sex'] == 'M']['weight'], color='green', label='Men Weight',ax = axes[1])\n",
    "fig.legend()\n",
    "plt.show()"
   ]
  },
  {
   "cell_type": "code",
   "execution_count": 69,
   "id": "70845b53",
   "metadata": {},
   "outputs": [
    {
     "data": {
      "image/png": "[encoded data removed]",
      "text/plain": [
       "<Figure size 864x432 with 2 Axes>"
      ]
     },
     "metadata": {
      "needs_background": "light"
     },
     "output_type": "display_data"
    }
   ],
   "source": [
    "fig, axes = plt.subplots(1,2,figsize = (12,6))\n",
    "sns.histplot(davis[davis['sex'] == 'F']['height'], color='red', label='Women Height',ax = axes[0])\n",
    "sns.histplot(davis[davis['sex'] == 'F']['weight'], color='pink', label='Women Weight',ax = axes[1])\n",
    "fig.legend()\n",
    "plt.show()"
   ]
  },
  {
   "cell_type": "markdown",
   "id": "f3470584",
   "metadata": {},
   "source": [
    "#### 4) На тренировочных данных обучите классификатор пола (sex), используя только признаки height и weight. Замерьте производительность на тренировочной и тестовой выборке (через Accuracy). Рекомендуемые модели:  логистическая регрессия, quadratic discriminant analysis."
   ]
  },
  {
   "cell_type": "code",
   "execution_count": 72,
   "id": "aaf8a8e0",
   "metadata": {},
   "outputs": [],
   "source": [
    "from sklearn.discriminant_analysis import QuadraticDiscriminantAnalysis\n",
    "train.replace({'M':1,'F':0},inplace = True)\n",
    "test.replace({'M':1,'F':0},inplace = True)"
   ]
  },
  {
   "cell_type": "code",
   "execution_count": 76,
   "id": "9244f05b",
   "metadata": {},
   "outputs": [
    {
     "name": "stdout",
     "output_type": "stream",
     "text": [
      "0.8931297709923665\n"
     ]
    }
   ],
   "source": [
    "qda = QuadraticDiscriminantAnalysis()\n",
    "trainX = train.loc[:,'weight':'height'].to_numpy()\n",
    "trainY = train['sex'].to_numpy()\n",
    "qda.fit(trainX,trainY)\n",
    "print(qda.score(trainX,trainY))"
   ]
  },
  {
   "cell_type": "code",
   "execution_count": 80,
   "id": "86fb2c05",
   "metadata": {},
   "outputs": [],
   "source": [
    "from sklearn.metrics import accuracy_score"
   ]
  },
  {
   "cell_type": "code",
   "execution_count": 81,
   "id": "2f9b5e74",
   "metadata": {},
   "outputs": [
    {
     "name": "stdout",
     "output_type": "stream",
     "text": [
      "0.9\n"
     ]
    }
   ],
   "source": [
    "testX = test.loc[:,'weight':'height'].to_numpy()\n",
    "testY = test['sex'].to_numpy()\n",
    "predicts = qda.predict(testX)\n",
    "print(accuracy_score(predicts,testY))"
   ]
  },
  {
   "cell_type": "markdown",
   "id": "41428360",
   "metadata": {},
   "source": [
    "#### 5) Отобразите точки из обучающей выборки на плоскости (height-weight). Покрасьте их цветами в зависимости от пола. Раскрасьте области в зависимости от пола, предсказанного обученным в п.4. классификатором. "
   ]
  },
  {
   "cell_type": "code",
   "execution_count": 125,
   "id": "7fecb9a0",
   "metadata": {},
   "outputs": [],
   "source": [
    "from matplotlib.colors import ListedColormap\n",
    "class_cmap = ListedColormap(['blue', 'red'])"
   ]
  },
  {
   "cell_type": "code",
   "execution_count": 146,
   "id": "dfdc7001",
   "metadata": {},
   "outputs": [
    {
     "data": {
      "image/png": "[encoded data removed]",
      "text/plain": [
       "<Figure size 864x432 with 2 Axes>"
      ]
     },
     "metadata": {
      "needs_background": "light"
     },
     "output_type": "display_data"
    }
   ],
   "source": [
    "predicts = qda.predict(trainX)\n",
    "fig, axes = plt.subplots(1,2,figsize = (12,6))\n",
    "axes[0].plot(trainX[predicts == 0][:,1],trainX[predicts == 0][:,0], 'bo', label = 'men')\n",
    "axes[0].plot(trainX[predicts == 1][:,1],trainX[predicts == 1][:,0], 'ro', label = 'women')\n",
    "axes[0].set_ylabel('weight')\n",
    "axes[0].set_xlabel('height')\n",
    "axes[0].set_title('Training')\n",
    "axes[0].legend()\n",
    "\n",
    "predicts = qda.predict(testX)\n",
    "\n",
    "\n",
    "axes[1].plot(testX[predicts == 0][:,1],testX[predicts == 0][:,0], 'bo', label = 'men')\n",
    "axes[1].plot(testX[predicts == 1][:,1],testX[predicts == 1][:,0], 'ro', label = 'women')\n",
    "axes[1].set_ylabel('weight')\n",
    "axes[1].set_xlabel('height')\n",
    "axes[1].set_title('Test')\n",
    "axes[1].legend()\n",
    "\n",
    "plt.show()"
   ]
  },
  {
   "cell_type": "markdown",
   "id": "d10d744d",
   "metadata": {},
   "source": [
    "## Задание 2. Для датасета CCPP.\n",
    "#### 1) Возьмите данные с листа 1 и выделите валидационную и тестовую выборку."
   ]
  },
  {
   "cell_type": "code",
   "execution_count": 95,
   "id": "eddaefd8",
   "metadata": {},
   "outputs": [
    {
     "name": "stdout",
     "output_type": "stream",
     "text": [
      "      AT      V       AP     RH      PE\n",
      "0  14.96  41.76  1024.07  73.17  463.26\n",
      "1  25.18  62.96  1020.04  59.08  444.37\n",
      "2   5.11  39.40  1012.16  92.14  488.56\n",
      "3  20.86  57.32  1010.24  76.64  446.48\n",
      "4  10.82  37.50  1009.23  96.62  473.90\n"
     ]
    }
   ],
   "source": [
    "ccpp = pd.read_excel('Folds5x2_pp.xlsx', sheet_name = 'Sheet1')\n",
    "print(ccpp.head())"
   ]
  },
  {
   "cell_type": "code",
   "execution_count": 96,
   "id": "c55e90e6",
   "metadata": {},
   "outputs": [
    {
     "name": "stdout",
     "output_type": "stream",
     "text": [
      "(6123, 5) (1531, 5) (1914, 5)\n"
     ]
    }
   ],
   "source": [
    "train_val, test = train_test_split(ccpp, test_size = 0.2)\n",
    "train, val = train_test_split(train_val, test_size= 0.2)\n",
    "print(train.shape,val.shape,test.shape)"
   ]
  },
  {
   "cell_type": "markdown",
   "id": "ffe64066",
   "metadata": {},
   "source": [
    "#### 2) Постройте регрессионную модель.  Замерьте коэффициент  и среднюю ошибку предсказания на валидационной выборке.\n"
   ]
  },
  {
   "cell_type": "code",
   "execution_count": 147,
   "id": "c7792539",
   "metadata": {},
   "outputs": [],
   "source": [
    "from sklearn.linear_model import LinearRegression\n",
    "from sklearn.metrics import r2_score, mean_squared_error"
   ]
  },
  {
   "cell_type": "code",
   "execution_count": 150,
   "id": "2674e743",
   "metadata": {},
   "outputs": [],
   "source": [
    "lr = LinearRegression()\n",
    "\n",
    "trainX = train.loc[:, \"AT\":\"RH\"].to_numpy()\n",
    "trainY = train[\"PE\"].to_numpy()\n",
    "valX = val.loc[:, \"AT\":\"RH\"].to_numpy()\n",
    "valY = val[\"PE\"].to_numpy()\n",
    "testX = test.loc[:, \"AT\":\"RH\"].to_numpy()\n",
    "testY = test[\"PE\"].to_numpy()"
   ]
  },
  {
   "cell_type": "code",
   "execution_count": 156,
   "id": "ad012d66",
   "metadata": {},
   "outputs": [
    {
     "name": "stdout",
     "output_type": "stream",
     "text": [
      "r2 score =  0.9276195032966283\n",
      "mse =  21.154465400277488\n"
     ]
    }
   ],
   "source": [
    "lr.fit(trainX,trainY)\n",
    "print('r2 score = ',lr.score(valX,valY))\n",
    "predVal = lr.predict(valX)\n",
    "print('mse = ', mean_squared_error(predVal,valY))"
   ]
  },
  {
   "cell_type": "markdown",
   "id": "174027d5",
   "metadata": {},
   "source": [
    "#### 3) Постройте точки из валидационной выборки на плоскости ($t$ =истинное значение, $y$ =предсказание модели). Отобразите вместе с ними прямую $y=t$. \n"
   ]
  },
  {
   "cell_type": "code",
   "execution_count": 168,
   "id": "d58ade29",
   "metadata": {},
   "outputs": [
    {
     "data": {
      "image/png": "[encoded data removed]",
      "text/plain": [
       "<Figure size 504x504 with 1 Axes>"
      ]
     },
     "metadata": {
      "needs_background": "light"
     },
     "output_type": "display_data"
    }
   ],
   "source": [
    "fig, ax = plt.subplots(1,1,figsize = (7,7))\n",
    "k,b =np.polyfit(valY, predVal, 1)\n",
    "ax.plot(valY, predVal,'r.', alpha=0.3)\n",
    "ax.plot(valY, k*valY + b,'-k')\n",
    "ax.set_xlabel('t')\n",
    "ax.set_ylabel('Оценочное значение')\n",
    "plt.show()"
   ]
  }
 ],
 "metadata": {
  "kernelspec": {
   "display_name": "Python 3 (ipykernel)",
   "language": "python",
   "name": "python3"
  },
  "language_info": {
   "codemirror_mode": {
    "name": "ipython",
    "version": 3
   },
   "file_extension": ".py",
   "mimetype": "text/x-python",
   "name": "python",
   "nbconvert_exporter": "python",
   "pygments_lexer": "ipython3",
   "version": "3.9.7"
  }
 },
 "nbformat": 4,
 "nbformat_minor": 5
}
