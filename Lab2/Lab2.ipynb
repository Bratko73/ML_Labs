{
 "cells": [
  {
   "cell_type": "markdown",
   "id": "7341f63c",
   "metadata": {},
   "source": [
    "### Часть 1. Обработка табличных данных в Pandas. Подготовка данных."
   ]
  },
  {
   "cell_type": "markdown",
   "id": "22c7ce60",
   "metadata": {},
   "source": [
    "## Задание 3 Для датасета California Housing:\n"
   ]
  },
  {
   "cell_type": "markdown",
   "id": "72cbebb8",
   "metadata": {},
   "source": [
    "- Разбейте датасет на тренировочную, валидационную и тестовую выборку\n",
    "- Проведите преобразование категориального признака ocean_proximity через OneHot или Dummy-кодировку\n",
    "- Замените признаки total_rooms и total_bedrooms на average_rooms и average_bedrooms (поделив на households).\n",
    "- В признаке average_bedrooms (total_bedrooms) есть отсутствующие значения. Определите число экземпляров данных, для которых этот признак отсутствует. Придумайте и обоснуйте стратегию заполнения пропусков в этой задаче. Заполните пропуски.\n",
    "- Нормализуйте признаки longitude и latitude (сделайте так, чтобы каждый признак имел среднее значение 0 и дисперсию 1 внутри обучающей выборки)"
   ]
  },
  {
   "cell_type": "code",
   "execution_count": 1,
   "id": "a6859e7c",
   "metadata": {},
   "outputs": [],
   "source": [
    "import pandas as pd\n",
    "import matplotlib.pyplot as plt\n",
    "import numpy as np"
   ]
  },
  {
   "cell_type": "code",
   "execution_count": 2,
   "id": "12969074",
   "metadata": {},
   "outputs": [
    {
     "name": "stdout",
     "output_type": "stream",
     "text": [
      "   longitude  latitude  housing_median_age  total_rooms  total_bedrooms  \\\n",
      "0    -122.23     37.88                41.0        880.0           129.0   \n",
      "1    -122.22     37.86                21.0       7099.0          1106.0   \n",
      "2    -122.24     37.85                52.0       1467.0           190.0   \n",
      "3    -122.25     37.85                52.0       1274.0           235.0   \n",
      "4    -122.25     37.85                52.0       1627.0           280.0   \n",
      "\n",
      "   population  households  median_income  median_house_value ocean_proximity  \n",
      "0       322.0       126.0         8.3252            452600.0        NEAR BAY  \n",
      "1      2401.0      1138.0         8.3014            358500.0        NEAR BAY  \n",
      "2       496.0       177.0         7.2574            352100.0        NEAR BAY  \n",
      "3       558.0       219.0         5.6431            341300.0        NEAR BAY  \n",
      "4       565.0       259.0         3.8462            342200.0        NEAR BAY  \n"
     ]
    }
   ],
   "source": [
    "housing = pd.read_csv('housing.csv')\n",
    "print(housing.head())"
   ]
  },
  {
   "cell_type": "markdown",
   "id": "7c6898df",
   "metadata": {},
   "source": [
    "##### Проведите преобразование категориального признака ocean_proximity через OneHot или Dummy-кодировку"
   ]
  },
  {
   "cell_type": "code",
   "execution_count": 3,
   "id": "d967eaa2",
   "metadata": {},
   "outputs": [
    {
     "data": {
      "text/html": [
       "<div>\n",
       "<style scoped>\n",
       "    .dataframe tbody tr th:only-of-type {\n",
       "        vertical-align: middle;\n",
       "    }\n",
       "\n",
       "    .dataframe tbody tr th {\n",
       "        vertical-align: top;\n",
       "    }\n",
       "\n",
       "    .dataframe thead th {\n",
       "        text-align: right;\n",
       "    }\n",
       "</style>\n",
       "<table border=\"1\" class=\"dataframe\">\n",
       "  <thead>\n",
       "    <tr style=\"text-align: right;\">\n",
       "      <th></th>\n",
       "      <th>longitude</th>\n",
       "      <th>latitude</th>\n",
       "      <th>housing_median_age</th>\n",
       "      <th>total_rooms</th>\n",
       "      <th>total_bedrooms</th>\n",
       "      <th>population</th>\n",
       "      <th>households</th>\n",
       "      <th>median_income</th>\n",
       "      <th>median_house_value</th>\n",
       "      <th>ocean_proximity__&lt;1H OCEAN</th>\n",
       "      <th>ocean_proximity__INLAND</th>\n",
       "      <th>ocean_proximity__ISLAND</th>\n",
       "      <th>ocean_proximity__NEAR BAY</th>\n",
       "      <th>ocean_proximity__NEAR OCEAN</th>\n",
       "    </tr>\n",
       "  </thead>\n",
       "  <tbody>\n",
       "    <tr>\n",
       "      <th>0</th>\n",
       "      <td>-122.23</td>\n",
       "      <td>37.88</td>\n",
       "      <td>41.0</td>\n",
       "      <td>880.0</td>\n",
       "      <td>129.0</td>\n",
       "      <td>322.0</td>\n",
       "      <td>126.0</td>\n",
       "      <td>8.3252</td>\n",
       "      <td>452600.0</td>\n",
       "      <td>0</td>\n",
       "      <td>0</td>\n",
       "      <td>0</td>\n",
       "      <td>1</td>\n",
       "      <td>0</td>\n",
       "    </tr>\n",
       "    <tr>\n",
       "      <th>1</th>\n",
       "      <td>-122.22</td>\n",
       "      <td>37.86</td>\n",
       "      <td>21.0</td>\n",
       "      <td>7099.0</td>\n",
       "      <td>1106.0</td>\n",
       "      <td>2401.0</td>\n",
       "      <td>1138.0</td>\n",
       "      <td>8.3014</td>\n",
       "      <td>358500.0</td>\n",
       "      <td>0</td>\n",
       "      <td>0</td>\n",
       "      <td>0</td>\n",
       "      <td>1</td>\n",
       "      <td>0</td>\n",
       "    </tr>\n",
       "    <tr>\n",
       "      <th>2</th>\n",
       "      <td>-122.24</td>\n",
       "      <td>37.85</td>\n",
       "      <td>52.0</td>\n",
       "      <td>1467.0</td>\n",
       "      <td>190.0</td>\n",
       "      <td>496.0</td>\n",
       "      <td>177.0</td>\n",
       "      <td>7.2574</td>\n",
       "      <td>352100.0</td>\n",
       "      <td>0</td>\n",
       "      <td>0</td>\n",
       "      <td>0</td>\n",
       "      <td>1</td>\n",
       "      <td>0</td>\n",
       "    </tr>\n",
       "    <tr>\n",
       "      <th>3</th>\n",
       "      <td>-122.25</td>\n",
       "      <td>37.85</td>\n",
       "      <td>52.0</td>\n",
       "      <td>1274.0</td>\n",
       "      <td>235.0</td>\n",
       "      <td>558.0</td>\n",
       "      <td>219.0</td>\n",
       "      <td>5.6431</td>\n",
       "      <td>341300.0</td>\n",
       "      <td>0</td>\n",
       "      <td>0</td>\n",
       "      <td>0</td>\n",
       "      <td>1</td>\n",
       "      <td>0</td>\n",
       "    </tr>\n",
       "    <tr>\n",
       "      <th>4</th>\n",
       "      <td>-122.25</td>\n",
       "      <td>37.85</td>\n",
       "      <td>52.0</td>\n",
       "      <td>1627.0</td>\n",
       "      <td>280.0</td>\n",
       "      <td>565.0</td>\n",
       "      <td>259.0</td>\n",
       "      <td>3.8462</td>\n",
       "      <td>342200.0</td>\n",
       "      <td>0</td>\n",
       "      <td>0</td>\n",
       "      <td>0</td>\n",
       "      <td>1</td>\n",
       "      <td>0</td>\n",
       "    </tr>\n",
       "    <tr>\n",
       "      <th>...</th>\n",
       "      <td>...</td>\n",
       "      <td>...</td>\n",
       "      <td>...</td>\n",
       "      <td>...</td>\n",
       "      <td>...</td>\n",
       "      <td>...</td>\n",
       "      <td>...</td>\n",
       "      <td>...</td>\n",
       "      <td>...</td>\n",
       "      <td>...</td>\n",
       "      <td>...</td>\n",
       "      <td>...</td>\n",
       "      <td>...</td>\n",
       "      <td>...</td>\n",
       "    </tr>\n",
       "    <tr>\n",
       "      <th>20635</th>\n",
       "      <td>-121.09</td>\n",
       "      <td>39.48</td>\n",
       "      <td>25.0</td>\n",
       "      <td>1665.0</td>\n",
       "      <td>374.0</td>\n",
       "      <td>845.0</td>\n",
       "      <td>330.0</td>\n",
       "      <td>1.5603</td>\n",
       "      <td>78100.0</td>\n",
       "      <td>0</td>\n",
       "      <td>1</td>\n",
       "      <td>0</td>\n",
       "      <td>0</td>\n",
       "      <td>0</td>\n",
       "    </tr>\n",
       "    <tr>\n",
       "      <th>20636</th>\n",
       "      <td>-121.21</td>\n",
       "      <td>39.49</td>\n",
       "      <td>18.0</td>\n",
       "      <td>697.0</td>\n",
       "      <td>150.0</td>\n",
       "      <td>356.0</td>\n",
       "      <td>114.0</td>\n",
       "      <td>2.5568</td>\n",
       "      <td>77100.0</td>\n",
       "      <td>0</td>\n",
       "      <td>1</td>\n",
       "      <td>0</td>\n",
       "      <td>0</td>\n",
       "      <td>0</td>\n",
       "    </tr>\n",
       "    <tr>\n",
       "      <th>20637</th>\n",
       "      <td>-121.22</td>\n",
       "      <td>39.43</td>\n",
       "      <td>17.0</td>\n",
       "      <td>2254.0</td>\n",
       "      <td>485.0</td>\n",
       "      <td>1007.0</td>\n",
       "      <td>433.0</td>\n",
       "      <td>1.7000</td>\n",
       "      <td>92300.0</td>\n",
       "      <td>0</td>\n",
       "      <td>1</td>\n",
       "      <td>0</td>\n",
       "      <td>0</td>\n",
       "      <td>0</td>\n",
       "    </tr>\n",
       "    <tr>\n",
       "      <th>20638</th>\n",
       "      <td>-121.32</td>\n",
       "      <td>39.43</td>\n",
       "      <td>18.0</td>\n",
       "      <td>1860.0</td>\n",
       "      <td>409.0</td>\n",
       "      <td>741.0</td>\n",
       "      <td>349.0</td>\n",
       "      <td>1.8672</td>\n",
       "      <td>84700.0</td>\n",
       "      <td>0</td>\n",
       "      <td>1</td>\n",
       "      <td>0</td>\n",
       "      <td>0</td>\n",
       "      <td>0</td>\n",
       "    </tr>\n",
       "    <tr>\n",
       "      <th>20639</th>\n",
       "      <td>-121.24</td>\n",
       "      <td>39.37</td>\n",
       "      <td>16.0</td>\n",
       "      <td>2785.0</td>\n",
       "      <td>616.0</td>\n",
       "      <td>1387.0</td>\n",
       "      <td>530.0</td>\n",
       "      <td>2.3886</td>\n",
       "      <td>89400.0</td>\n",
       "      <td>0</td>\n",
       "      <td>1</td>\n",
       "      <td>0</td>\n",
       "      <td>0</td>\n",
       "      <td>0</td>\n",
       "    </tr>\n",
       "  </tbody>\n",
       "</table>\n",
       "<p>20640 rows × 14 columns</p>\n",
       "</div>"
      ],
      "text/plain": [
       "       longitude  latitude  housing_median_age  total_rooms  total_bedrooms  \\\n",
       "0        -122.23     37.88                41.0        880.0           129.0   \n",
       "1        -122.22     37.86                21.0       7099.0          1106.0   \n",
       "2        -122.24     37.85                52.0       1467.0           190.0   \n",
       "3        -122.25     37.85                52.0       1274.0           235.0   \n",
       "4        -122.25     37.85                52.0       1627.0           280.0   \n",
       "...          ...       ...                 ...          ...             ...   \n",
       "20635    -121.09     39.48                25.0       1665.0           374.0   \n",
       "20636    -121.21     39.49                18.0        697.0           150.0   \n",
       "20637    -121.22     39.43                17.0       2254.0           485.0   \n",
       "20638    -121.32     39.43                18.0       1860.0           409.0   \n",
       "20639    -121.24     39.37                16.0       2785.0           616.0   \n",
       "\n",
       "       population  households  median_income  median_house_value  \\\n",
       "0           322.0       126.0         8.3252            452600.0   \n",
       "1          2401.0      1138.0         8.3014            358500.0   \n",
       "2           496.0       177.0         7.2574            352100.0   \n",
       "3           558.0       219.0         5.6431            341300.0   \n",
       "4           565.0       259.0         3.8462            342200.0   \n",
       "...           ...         ...            ...                 ...   \n",
       "20635       845.0       330.0         1.5603             78100.0   \n",
       "20636       356.0       114.0         2.5568             77100.0   \n",
       "20637      1007.0       433.0         1.7000             92300.0   \n",
       "20638       741.0       349.0         1.8672             84700.0   \n",
       "20639      1387.0       530.0         2.3886             89400.0   \n",
       "\n",
       "       ocean_proximity__<1H OCEAN  ocean_proximity__INLAND  \\\n",
       "0                               0                        0   \n",
       "1                               0                        0   \n",
       "2                               0                        0   \n",
       "3                               0                        0   \n",
       "4                               0                        0   \n",
       "...                           ...                      ...   \n",
       "20635                           0                        1   \n",
       "20636                           0                        1   \n",
       "20637                           0                        1   \n",
       "20638                           0                        1   \n",
       "20639                           0                        1   \n",
       "\n",
       "       ocean_proximity__ISLAND  ocean_proximity__NEAR BAY  \\\n",
       "0                            0                          1   \n",
       "1                            0                          1   \n",
       "2                            0                          1   \n",
       "3                            0                          1   \n",
       "4                            0                          1   \n",
       "...                        ...                        ...   \n",
       "20635                        0                          0   \n",
       "20636                        0                          0   \n",
       "20637                        0                          0   \n",
       "20638                        0                          0   \n",
       "20639                        0                          0   \n",
       "\n",
       "       ocean_proximity__NEAR OCEAN  \n",
       "0                                0  \n",
       "1                                0  \n",
       "2                                0  \n",
       "3                                0  \n",
       "4                                0  \n",
       "...                            ...  \n",
       "20635                            0  \n",
       "20636                            0  \n",
       "20637                            0  \n",
       "20638                            0  \n",
       "20639                            0  \n",
       "\n",
       "[20640 rows x 14 columns]"
      ]
     },
     "execution_count": 3,
     "metadata": {},
     "output_type": "execute_result"
    }
   ],
   "source": [
    "housing_dummy = pd.get_dummies(housing, columns = ['ocean_proximity'], prefix_sep = '__')\n",
    "housing_dummy"
   ]
  },
  {
   "cell_type": "markdown",
   "id": "c7d740e7",
   "metadata": {},
   "source": [
    "#####  Замените признаки total_rooms и total_bedrooms на average_rooms и average_bedrooms (поделив на households)."
   ]
  },
  {
   "cell_type": "code",
   "execution_count": 4,
   "id": "ad952dcf",
   "metadata": {},
   "outputs": [
    {
     "data": {
      "text/html": [
       "<div>\n",
       "<style scoped>\n",
       "    .dataframe tbody tr th:only-of-type {\n",
       "        vertical-align: middle;\n",
       "    }\n",
       "\n",
       "    .dataframe tbody tr th {\n",
       "        vertical-align: top;\n",
       "    }\n",
       "\n",
       "    .dataframe thead th {\n",
       "        text-align: right;\n",
       "    }\n",
       "</style>\n",
       "<table border=\"1\" class=\"dataframe\">\n",
       "  <thead>\n",
       "    <tr style=\"text-align: right;\">\n",
       "      <th></th>\n",
       "      <th>longitude</th>\n",
       "      <th>latitude</th>\n",
       "      <th>housing_median_age</th>\n",
       "      <th>population</th>\n",
       "      <th>households</th>\n",
       "      <th>median_income</th>\n",
       "      <th>median_house_value</th>\n",
       "      <th>ocean_proximity__&lt;1H OCEAN</th>\n",
       "      <th>ocean_proximity__INLAND</th>\n",
       "      <th>ocean_proximity__ISLAND</th>\n",
       "      <th>ocean_proximity__NEAR BAY</th>\n",
       "      <th>ocean_proximity__NEAR OCEAN</th>\n",
       "      <th>average_rooms</th>\n",
       "      <th>average_bedrooms</th>\n",
       "    </tr>\n",
       "  </thead>\n",
       "  <tbody>\n",
       "    <tr>\n",
       "      <th>0</th>\n",
       "      <td>-122.23</td>\n",
       "      <td>37.88</td>\n",
       "      <td>41.0</td>\n",
       "      <td>322.0</td>\n",
       "      <td>126.0</td>\n",
       "      <td>8.3252</td>\n",
       "      <td>452600.0</td>\n",
       "      <td>0</td>\n",
       "      <td>0</td>\n",
       "      <td>0</td>\n",
       "      <td>1</td>\n",
       "      <td>0</td>\n",
       "      <td>6.984127</td>\n",
       "      <td>1.023810</td>\n",
       "    </tr>\n",
       "    <tr>\n",
       "      <th>1</th>\n",
       "      <td>-122.22</td>\n",
       "      <td>37.86</td>\n",
       "      <td>21.0</td>\n",
       "      <td>2401.0</td>\n",
       "      <td>1138.0</td>\n",
       "      <td>8.3014</td>\n",
       "      <td>358500.0</td>\n",
       "      <td>0</td>\n",
       "      <td>0</td>\n",
       "      <td>0</td>\n",
       "      <td>1</td>\n",
       "      <td>0</td>\n",
       "      <td>6.238137</td>\n",
       "      <td>0.971880</td>\n",
       "    </tr>\n",
       "    <tr>\n",
       "      <th>2</th>\n",
       "      <td>-122.24</td>\n",
       "      <td>37.85</td>\n",
       "      <td>52.0</td>\n",
       "      <td>496.0</td>\n",
       "      <td>177.0</td>\n",
       "      <td>7.2574</td>\n",
       "      <td>352100.0</td>\n",
       "      <td>0</td>\n",
       "      <td>0</td>\n",
       "      <td>0</td>\n",
       "      <td>1</td>\n",
       "      <td>0</td>\n",
       "      <td>8.288136</td>\n",
       "      <td>1.073446</td>\n",
       "    </tr>\n",
       "    <tr>\n",
       "      <th>3</th>\n",
       "      <td>-122.25</td>\n",
       "      <td>37.85</td>\n",
       "      <td>52.0</td>\n",
       "      <td>558.0</td>\n",
       "      <td>219.0</td>\n",
       "      <td>5.6431</td>\n",
       "      <td>341300.0</td>\n",
       "      <td>0</td>\n",
       "      <td>0</td>\n",
       "      <td>0</td>\n",
       "      <td>1</td>\n",
       "      <td>0</td>\n",
       "      <td>5.817352</td>\n",
       "      <td>1.073059</td>\n",
       "    </tr>\n",
       "    <tr>\n",
       "      <th>4</th>\n",
       "      <td>-122.25</td>\n",
       "      <td>37.85</td>\n",
       "      <td>52.0</td>\n",
       "      <td>565.0</td>\n",
       "      <td>259.0</td>\n",
       "      <td>3.8462</td>\n",
       "      <td>342200.0</td>\n",
       "      <td>0</td>\n",
       "      <td>0</td>\n",
       "      <td>0</td>\n",
       "      <td>1</td>\n",
       "      <td>0</td>\n",
       "      <td>6.281853</td>\n",
       "      <td>1.081081</td>\n",
       "    </tr>\n",
       "    <tr>\n",
       "      <th>...</th>\n",
       "      <td>...</td>\n",
       "      <td>...</td>\n",
       "      <td>...</td>\n",
       "      <td>...</td>\n",
       "      <td>...</td>\n",
       "      <td>...</td>\n",
       "      <td>...</td>\n",
       "      <td>...</td>\n",
       "      <td>...</td>\n",
       "      <td>...</td>\n",
       "      <td>...</td>\n",
       "      <td>...</td>\n",
       "      <td>...</td>\n",
       "      <td>...</td>\n",
       "    </tr>\n",
       "    <tr>\n",
       "      <th>20635</th>\n",
       "      <td>-121.09</td>\n",
       "      <td>39.48</td>\n",
       "      <td>25.0</td>\n",
       "      <td>845.0</td>\n",
       "      <td>330.0</td>\n",
       "      <td>1.5603</td>\n",
       "      <td>78100.0</td>\n",
       "      <td>0</td>\n",
       "      <td>1</td>\n",
       "      <td>0</td>\n",
       "      <td>0</td>\n",
       "      <td>0</td>\n",
       "      <td>5.045455</td>\n",
       "      <td>1.133333</td>\n",
       "    </tr>\n",
       "    <tr>\n",
       "      <th>20636</th>\n",
       "      <td>-121.21</td>\n",
       "      <td>39.49</td>\n",
       "      <td>18.0</td>\n",
       "      <td>356.0</td>\n",
       "      <td>114.0</td>\n",
       "      <td>2.5568</td>\n",
       "      <td>77100.0</td>\n",
       "      <td>0</td>\n",
       "      <td>1</td>\n",
       "      <td>0</td>\n",
       "      <td>0</td>\n",
       "      <td>0</td>\n",
       "      <td>6.114035</td>\n",
       "      <td>1.315789</td>\n",
       "    </tr>\n",
       "    <tr>\n",
       "      <th>20637</th>\n",
       "      <td>-121.22</td>\n",
       "      <td>39.43</td>\n",
       "      <td>17.0</td>\n",
       "      <td>1007.0</td>\n",
       "      <td>433.0</td>\n",
       "      <td>1.7000</td>\n",
       "      <td>92300.0</td>\n",
       "      <td>0</td>\n",
       "      <td>1</td>\n",
       "      <td>0</td>\n",
       "      <td>0</td>\n",
       "      <td>0</td>\n",
       "      <td>5.205543</td>\n",
       "      <td>1.120092</td>\n",
       "    </tr>\n",
       "    <tr>\n",
       "      <th>20638</th>\n",
       "      <td>-121.32</td>\n",
       "      <td>39.43</td>\n",
       "      <td>18.0</td>\n",
       "      <td>741.0</td>\n",
       "      <td>349.0</td>\n",
       "      <td>1.8672</td>\n",
       "      <td>84700.0</td>\n",
       "      <td>0</td>\n",
       "      <td>1</td>\n",
       "      <td>0</td>\n",
       "      <td>0</td>\n",
       "      <td>0</td>\n",
       "      <td>5.329513</td>\n",
       "      <td>1.171920</td>\n",
       "    </tr>\n",
       "    <tr>\n",
       "      <th>20639</th>\n",
       "      <td>-121.24</td>\n",
       "      <td>39.37</td>\n",
       "      <td>16.0</td>\n",
       "      <td>1387.0</td>\n",
       "      <td>530.0</td>\n",
       "      <td>2.3886</td>\n",
       "      <td>89400.0</td>\n",
       "      <td>0</td>\n",
       "      <td>1</td>\n",
       "      <td>0</td>\n",
       "      <td>0</td>\n",
       "      <td>0</td>\n",
       "      <td>5.254717</td>\n",
       "      <td>1.162264</td>\n",
       "    </tr>\n",
       "  </tbody>\n",
       "</table>\n",
       "<p>20640 rows × 14 columns</p>\n",
       "</div>"
      ],
      "text/plain": [
       "       longitude  latitude  housing_median_age  population  households  \\\n",
       "0        -122.23     37.88                41.0       322.0       126.0   \n",
       "1        -122.22     37.86                21.0      2401.0      1138.0   \n",
       "2        -122.24     37.85                52.0       496.0       177.0   \n",
       "3        -122.25     37.85                52.0       558.0       219.0   \n",
       "4        -122.25     37.85                52.0       565.0       259.0   \n",
       "...          ...       ...                 ...         ...         ...   \n",
       "20635    -121.09     39.48                25.0       845.0       330.0   \n",
       "20636    -121.21     39.49                18.0       356.0       114.0   \n",
       "20637    -121.22     39.43                17.0      1007.0       433.0   \n",
       "20638    -121.32     39.43                18.0       741.0       349.0   \n",
       "20639    -121.24     39.37                16.0      1387.0       530.0   \n",
       "\n",
       "       median_income  median_house_value  ocean_proximity__<1H OCEAN  \\\n",
       "0             8.3252            452600.0                           0   \n",
       "1             8.3014            358500.0                           0   \n",
       "2             7.2574            352100.0                           0   \n",
       "3             5.6431            341300.0                           0   \n",
       "4             3.8462            342200.0                           0   \n",
       "...              ...                 ...                         ...   \n",
       "20635         1.5603             78100.0                           0   \n",
       "20636         2.5568             77100.0                           0   \n",
       "20637         1.7000             92300.0                           0   \n",
       "20638         1.8672             84700.0                           0   \n",
       "20639         2.3886             89400.0                           0   \n",
       "\n",
       "       ocean_proximity__INLAND  ocean_proximity__ISLAND  \\\n",
       "0                            0                        0   \n",
       "1                            0                        0   \n",
       "2                            0                        0   \n",
       "3                            0                        0   \n",
       "4                            0                        0   \n",
       "...                        ...                      ...   \n",
       "20635                        1                        0   \n",
       "20636                        1                        0   \n",
       "20637                        1                        0   \n",
       "20638                        1                        0   \n",
       "20639                        1                        0   \n",
       "\n",
       "       ocean_proximity__NEAR BAY  ocean_proximity__NEAR OCEAN  average_rooms  \\\n",
       "0                              1                            0       6.984127   \n",
       "1                              1                            0       6.238137   \n",
       "2                              1                            0       8.288136   \n",
       "3                              1                            0       5.817352   \n",
       "4                              1                            0       6.281853   \n",
       "...                          ...                          ...            ...   \n",
       "20635                          0                            0       5.045455   \n",
       "20636                          0                            0       6.114035   \n",
       "20637                          0                            0       5.205543   \n",
       "20638                          0                            0       5.329513   \n",
       "20639                          0                            0       5.254717   \n",
       "\n",
       "       average_bedrooms  \n",
       "0              1.023810  \n",
       "1              0.971880  \n",
       "2              1.073446  \n",
       "3              1.073059  \n",
       "4              1.081081  \n",
       "...                 ...  \n",
       "20635          1.133333  \n",
       "20636          1.315789  \n",
       "20637          1.120092  \n",
       "20638          1.171920  \n",
       "20639          1.162264  \n",
       "\n",
       "[20640 rows x 14 columns]"
      ]
     },
     "execution_count": 4,
     "metadata": {},
     "output_type": "execute_result"
    }
   ],
   "source": [
    "housing_dummy['average_rooms'] = housing_dummy['total_rooms']/housing_dummy['households']\n",
    "housing_dummy['average_bedrooms'] = housing_dummy['total_bedrooms']/housing_dummy['households']\n",
    "housing_dummy = housing_dummy.drop(['total_rooms','total_bedrooms'], axis=1)\n",
    "housing_dummy"
   ]
  },
  {
   "cell_type": "markdown",
   "id": "e079aaa3",
   "metadata": {},
   "source": [
    "##### В признаке average_bedrooms (total_bedrooms) есть отсутствующие значения. Определите число экземпляров данных, для которых этот признак отсутствует. Придумайте и обоснуйте стратегию заполнения пропусков в этой задаче. Заполните пропуски."
   ]
  },
  {
   "cell_type": "code",
   "execution_count": 5,
   "id": "ce0df02e",
   "metadata": {},
   "outputs": [
    {
     "name": "stdout",
     "output_type": "stream",
     "text": [
      "longitude                        0\n",
      "latitude                         0\n",
      "housing_median_age               0\n",
      "population                       0\n",
      "households                       0\n",
      "median_income                    0\n",
      "median_house_value               0\n",
      "ocean_proximity__<1H OCEAN       0\n",
      "ocean_proximity__INLAND          0\n",
      "ocean_proximity__ISLAND          0\n",
      "ocean_proximity__NEAR BAY        0\n",
      "ocean_proximity__NEAR OCEAN      0\n",
      "average_rooms                    0\n",
      "average_bedrooms               207\n",
      "dtype: int64\n"
     ]
    }
   ],
   "source": [
    "print(housing_dummy.isna().sum())"
   ]
  },
  {
   "cell_type": "markdown",
   "id": "be40296f",
   "metadata": {},
   "source": [
    "Логичным кажется заполнить пустые ячейки средним значением по столбцу, но кое-кто шепнул, что желательно обучить что-нибудь, и заполнить пропуски предсказанными значениями...в принципе это более логично ***\\\\/(^w^)\\\\/***"
   ]
  },
  {
   "cell_type": "code",
   "execution_count": 6,
   "id": "ba557749",
   "metadata": {},
   "outputs": [],
   "source": [
    "from sklearn.model_selection import train_test_split\n",
    "from sklearn.linear_model import LinearRegression"
   ]
  },
  {
   "cell_type": "code",
   "execution_count": 7,
   "id": "2dcc98ba",
   "metadata": {},
   "outputs": [
    {
     "name": "stdout",
     "output_type": "stream",
     "text": [
      "train score:  0.8691827290910621\n",
      "test score:  0.8181745505145928\n"
     ]
    }
   ],
   "source": [
    "housing_bedrooms_pred = housing_dummy.dropna(axis=0)\n",
    "train, test = train_test_split(housing_bedrooms_pred, test_size = 0.1)\n",
    "linReg = LinearRegression()\n",
    "trainX = train.drop('average_bedrooms',axis=1)\n",
    "trainY = train['average_bedrooms']\n",
    "testX = test.drop('average_bedrooms',axis=1)\n",
    "testY = test['average_bedrooms']\n",
    "linReg.fit(trainX,trainY)\n",
    "print('train score: ', linReg.score(trainX,trainY))\n",
    "print('test score: ', linReg.score(testX,testY))"
   ]
  },
  {
   "cell_type": "code",
   "execution_count": 8,
   "id": "d9ecaee7",
   "metadata": {},
   "outputs": [],
   "source": [
    "housing_predX = housing_dummy[housing_dummy['average_bedrooms'].isnull()].drop('average_bedrooms',axis=1)\n",
    "housing_predY = linReg.predict(housing_predX)\n",
    "housing_dummy.loc[housing_dummy['average_bedrooms'].isnull(), 'average_bedrooms'] = housing_predY"
   ]
  },
  {
   "cell_type": "code",
   "execution_count": 9,
   "id": "bf1dcec3",
   "metadata": {},
   "outputs": [
    {
     "name": "stdout",
     "output_type": "stream",
     "text": [
      "0\n"
     ]
    }
   ],
   "source": [
    "print(housing_dummy['average_bedrooms'].isna().sum())"
   ]
  },
  {
   "cell_type": "markdown",
   "id": "e946f3d0",
   "metadata": {},
   "source": [
    "##### Разбейте датасет на тренировочную, валидационную и тестовую выборку"
   ]
  },
  {
   "cell_type": "code",
   "execution_count": 10,
   "id": "cb9e24d5",
   "metadata": {},
   "outputs": [
    {
     "name": "stdout",
     "output_type": "stream",
     "text": [
      "(14860, 14) (3716, 14) (2064, 14)\n"
     ]
    }
   ],
   "source": [
    "housing_train_val, housing_test = train_test_split(housing_dummy, test_size = 0.1)\n",
    "housing_train, housing_val = train_test_split(housing_train_val, test_size= 0.2)\n",
    "print(housing_train.shape,housing_val.shape,housing_test.shape)"
   ]
  },
  {
   "cell_type": "markdown",
   "id": "c954b140",
   "metadata": {},
   "source": [
    "#####  Нормализуйте признаки longitude и latitude (сделайте так, чтобы каждый признак имел среднее значение 0 и дисперсию 1 внутри обучающей выборки)"
   ]
  },
  {
   "cell_type": "code",
   "execution_count": 11,
   "id": "ab660fb5",
   "metadata": {},
   "outputs": [],
   "source": [
    "from sklearn.preprocessing import StandardScaler"
   ]
  },
  {
   "cell_type": "code",
   "execution_count": 12,
   "id": "5c25eb72",
   "metadata": {},
   "outputs": [],
   "source": [
    "longitude_scaler = StandardScaler().fit(housing_train[['longitude']])\n",
    "latitude_scaler = StandardScaler().fit(housing_train[['latitude']])"
   ]
  },
  {
   "cell_type": "code",
   "execution_count": 13,
   "id": "70d7eb35",
   "metadata": {},
   "outputs": [],
   "source": [
    "housing_train['longitude'] = longitude_scaler.transform(housing_train[['longitude']]).reshape(-1)\n",
    "housing_test['longitude'] = longitude_scaler.transform(housing_test[['longitude']]).reshape(-1)\n",
    "housing_val['longitude'] = longitude_scaler.transform(housing_val[['longitude']]).reshape(-1)\n",
    "\n",
    "housing_train['latitude'] = latitude_scaler.transform(housing_train[['latitude']]).reshape(-1)\n",
    "housing_test['latitude'] = latitude_scaler.transform(housing_test[['latitude']]).reshape(-1)\n",
    "housing_val['latitude'] = latitude_scaler.transform(housing_val[['latitude']]).reshape(-1)"
   ]
  },
  {
   "cell_type": "code",
   "execution_count": 14,
   "id": "4997e97b",
   "metadata": {},
   "outputs": [
    {
     "name": "stdout",
     "output_type": "stream",
     "text": [
      "---Train---\n",
      "Longitude| mean:  2.036698908822109e-15 | D:  1.0000672992799025\n",
      "Latitude | mean:  -5.377147807322305e-16 | D:  1.0000672992798982\n",
      "---Test---\n",
      "Longitude| mean:  0.011908528851505437 | D:  0.9775103796524575\n",
      "Latitude | mean:  -0.01517425904847632 | D:  0.9699134049607164\n",
      "---Validation---\n",
      "Longitude| mean:  7.267863750599972e-05 | D:  0.9918080464606369\n",
      "Latitude | mean:  -0.0017169299110823856 | D:  0.9798210671548356\n"
     ]
    }
   ],
   "source": [
    "print('---Train---')\n",
    "print('Longitude| mean: ', housing_train['longitude'].mean(),'| D: ', housing_train['longitude'].var())\n",
    "print('Latitude | mean: ', housing_train['latitude'].mean(),'| D: ', housing_train['latitude'].var())\n",
    "print('---Test---')\n",
    "print('Longitude| mean: ', housing_test['longitude'].mean(),'| D: ', housing_test['longitude'].var())\n",
    "print('Latitude | mean: ', housing_test['latitude'].mean(),'| D: ', housing_test['latitude'].var())\n",
    "print('---Validation---')\n",
    "print('Longitude| mean: ', housing_val['longitude'].mean(),'| D: ', housing_val['longitude'].var())\n",
    "print('Latitude | mean: ', housing_val['latitude'].mean(),'| D: ', housing_val['latitude'].var())"
   ]
  },
  {
   "cell_type": "markdown",
   "id": "26b9c580",
   "metadata": {},
   "source": [
    "---------------------------------"
   ]
  },
  {
   "cell_type": "markdown",
   "id": "3f8fdcc5",
   "metadata": {},
   "source": [
    "# Часть 2. Машинное обучение. Классификация и регрессия.\n",
    "### Задание 1. \n",
    "Для датасета Davis:\n",
    "#### 1) Удалите некорректные данные"
   ]
  },
  {
   "cell_type": "code",
   "execution_count": 15,
   "id": "c4216b52",
   "metadata": {},
   "outputs": [],
   "source": [
    "davis = pd.read_csv('Davis.csv')"
   ]
  },
  {
   "cell_type": "code",
   "execution_count": 16,
   "id": "a93d2cb6",
   "metadata": {},
   "outputs": [
    {
     "data": {
      "text/html": [
       "<div>\n",
       "<style scoped>\n",
       "    .dataframe tbody tr th:only-of-type {\n",
       "        vertical-align: middle;\n",
       "    }\n",
       "\n",
       "    .dataframe tbody tr th {\n",
       "        vertical-align: top;\n",
       "    }\n",
       "\n",
       "    .dataframe thead th {\n",
       "        text-align: right;\n",
       "    }\n",
       "</style>\n",
       "<table border=\"1\" class=\"dataframe\">\n",
       "  <thead>\n",
       "    <tr style=\"text-align: right;\">\n",
       "      <th></th>\n",
       "      <th>Unnamed: 0</th>\n",
       "      <th>sex</th>\n",
       "      <th>weight</th>\n",
       "      <th>height</th>\n",
       "      <th>repwt</th>\n",
       "      <th>repht</th>\n",
       "    </tr>\n",
       "  </thead>\n",
       "  <tbody>\n",
       "    <tr>\n",
       "      <th>0</th>\n",
       "      <td>1</td>\n",
       "      <td>M</td>\n",
       "      <td>77</td>\n",
       "      <td>182</td>\n",
       "      <td>77.0</td>\n",
       "      <td>180.0</td>\n",
       "    </tr>\n",
       "    <tr>\n",
       "      <th>1</th>\n",
       "      <td>2</td>\n",
       "      <td>F</td>\n",
       "      <td>58</td>\n",
       "      <td>161</td>\n",
       "      <td>51.0</td>\n",
       "      <td>159.0</td>\n",
       "    </tr>\n",
       "    <tr>\n",
       "      <th>2</th>\n",
       "      <td>3</td>\n",
       "      <td>F</td>\n",
       "      <td>53</td>\n",
       "      <td>161</td>\n",
       "      <td>54.0</td>\n",
       "      <td>158.0</td>\n",
       "    </tr>\n",
       "    <tr>\n",
       "      <th>3</th>\n",
       "      <td>4</td>\n",
       "      <td>M</td>\n",
       "      <td>68</td>\n",
       "      <td>177</td>\n",
       "      <td>70.0</td>\n",
       "      <td>175.0</td>\n",
       "    </tr>\n",
       "    <tr>\n",
       "      <th>4</th>\n",
       "      <td>5</td>\n",
       "      <td>F</td>\n",
       "      <td>59</td>\n",
       "      <td>157</td>\n",
       "      <td>59.0</td>\n",
       "      <td>155.0</td>\n",
       "    </tr>\n",
       "  </tbody>\n",
       "</table>\n",
       "</div>"
      ],
      "text/plain": [
       "   Unnamed: 0 sex  weight  height  repwt  repht\n",
       "0           1   M      77     182   77.0  180.0\n",
       "1           2   F      58     161   51.0  159.0\n",
       "2           3   F      53     161   54.0  158.0\n",
       "3           4   M      68     177   70.0  175.0\n",
       "4           5   F      59     157   59.0  155.0"
      ]
     },
     "execution_count": 16,
     "metadata": {},
     "output_type": "execute_result"
    }
   ],
   "source": [
    "davis.head()"
   ]
  },
  {
   "cell_type": "code",
   "execution_count": 17,
   "id": "e2518ca2",
   "metadata": {},
   "outputs": [
    {
     "data": {
      "text/html": [
       "<div>\n",
       "<style scoped>\n",
       "    .dataframe tbody tr th:only-of-type {\n",
       "        vertical-align: middle;\n",
       "    }\n",
       "\n",
       "    .dataframe tbody tr th {\n",
       "        vertical-align: top;\n",
       "    }\n",
       "\n",
       "    .dataframe thead th {\n",
       "        text-align: right;\n",
       "    }\n",
       "</style>\n",
       "<table border=\"1\" class=\"dataframe\">\n",
       "  <thead>\n",
       "    <tr style=\"text-align: right;\">\n",
       "      <th></th>\n",
       "      <th>sex</th>\n",
       "      <th>weight</th>\n",
       "      <th>height</th>\n",
       "      <th>repwt</th>\n",
       "      <th>repht</th>\n",
       "    </tr>\n",
       "  </thead>\n",
       "  <tbody>\n",
       "    <tr>\n",
       "      <th>0</th>\n",
       "      <td>M</td>\n",
       "      <td>77</td>\n",
       "      <td>182</td>\n",
       "      <td>77.0</td>\n",
       "      <td>180.0</td>\n",
       "    </tr>\n",
       "    <tr>\n",
       "      <th>1</th>\n",
       "      <td>F</td>\n",
       "      <td>58</td>\n",
       "      <td>161</td>\n",
       "      <td>51.0</td>\n",
       "      <td>159.0</td>\n",
       "    </tr>\n",
       "    <tr>\n",
       "      <th>2</th>\n",
       "      <td>F</td>\n",
       "      <td>53</td>\n",
       "      <td>161</td>\n",
       "      <td>54.0</td>\n",
       "      <td>158.0</td>\n",
       "    </tr>\n",
       "    <tr>\n",
       "      <th>3</th>\n",
       "      <td>M</td>\n",
       "      <td>68</td>\n",
       "      <td>177</td>\n",
       "      <td>70.0</td>\n",
       "      <td>175.0</td>\n",
       "    </tr>\n",
       "    <tr>\n",
       "      <th>4</th>\n",
       "      <td>F</td>\n",
       "      <td>59</td>\n",
       "      <td>157</td>\n",
       "      <td>59.0</td>\n",
       "      <td>155.0</td>\n",
       "    </tr>\n",
       "  </tbody>\n",
       "</table>\n",
       "</div>"
      ],
      "text/plain": [
       "  sex  weight  height  repwt  repht\n",
       "0   M      77     182   77.0  180.0\n",
       "1   F      58     161   51.0  159.0\n",
       "2   F      53     161   54.0  158.0\n",
       "3   M      68     177   70.0  175.0\n",
       "4   F      59     157   59.0  155.0"
      ]
     },
     "execution_count": 17,
     "metadata": {},
     "output_type": "execute_result"
    }
   ],
   "source": [
    "davis.drop('Unnamed: 0', axis=1, inplace=True)\n",
    "davis.head()"
   ]
  },
  {
   "cell_type": "code",
   "execution_count": 18,
   "id": "2d61662c",
   "metadata": {},
   "outputs": [
    {
     "data": {
      "text/plain": [
       "(200, 5)"
      ]
     },
     "execution_count": 18,
     "metadata": {},
     "output_type": "execute_result"
    }
   ],
   "source": [
    "davis.shape"
   ]
  },
  {
   "cell_type": "code",
   "execution_count": 19,
   "id": "8292d74b",
   "metadata": {},
   "outputs": [
    {
     "data": {
      "image/png": "[encoded data removed]",
      "text/plain": [
       "<Figure size 360x360 with 1 Axes>"
      ]
     },
     "metadata": {
      "needs_background": "light"
     },
     "output_type": "display_data"
    }
   ],
   "source": [
    "plt.figure(figsize=(5,5))\n",
    "plt.plot(davis['height'].to_numpy(),davis['weight'].to_numpy(),'.r')\n",
    "plt.xlabel('height')\n",
    "plt.ylabel('weight')\n",
    "plt.show()"
   ]
  },
  {
   "cell_type": "markdown",
   "id": "ce92cd5a",
   "metadata": {},
   "source": [
    "Карлик ростом 60 см и весом 160 кг не имеет права на жизнь, требуется устранить!"
   ]
  },
  {
   "cell_type": "code",
   "execution_count": 20,
   "id": "a3617f53",
   "metadata": {},
   "outputs": [
    {
     "data": {
      "image/png": "[encoded data removed]",
      "text/plain": [
       "<Figure size 360x360 with 1 Axes>"
      ]
     },
     "metadata": {
      "needs_background": "light"
     },
     "output_type": "display_data"
    },
    {
     "name": "stdout",
     "output_type": "stream",
     "text": [
      "(199, 5)\n"
     ]
    }
   ],
   "source": [
    "davis = davis.loc[davis['weight']<120]\n",
    "davis = davis.loc[davis['height']>120]\n",
    "plt.figure(figsize=(5,5))\n",
    "plt.plot(davis['height'].to_numpy(),davis['weight'].to_numpy(),'.r')\n",
    "plt.xlabel('height')\n",
    "plt.ylabel('weight')\n",
    "plt.show()\n",
    "print(davis.shape)"
   ]
  },
  {
   "cell_type": "markdown",
   "id": "ced24e50",
   "metadata": {},
   "source": [
    "- Данные с пропусками в атрибутах удалять не будем, так как поступил приказ свыше :)\n",
    "- Аномалии(а может и нет) в виде сущностей рост 180,вес 120 и рост 200 вес 80 не трогаю, так как такое вроде как жить может, на собственном примере знаю."
   ]
  },
  {
   "cell_type": "markdown",
   "id": "6a4d4bdf",
   "metadata": {},
   "source": [
    "#### 2) Выделите тестовую выборку из 50 экземпляров"
   ]
  },
  {
   "cell_type": "code",
   "execution_count": 21,
   "id": "4209d162",
   "metadata": {},
   "outputs": [
    {
     "data": {
      "text/plain": [
       "(50, 5)"
      ]
     },
     "execution_count": 21,
     "metadata": {},
     "output_type": "execute_result"
    }
   ],
   "source": [
    "train,test = train_test_split(davis,test_size=50)\n",
    "test.shape"
   ]
  },
  {
   "cell_type": "markdown",
   "id": "f73f5dd0",
   "metadata": {},
   "source": [
    "#### 3) На тренировочных данных постройте:\n",
    "- Гистограмму height\n",
    "- Гистограмму weight\n",
    "- Эти же гистограммы для разных полов"
   ]
  },
  {
   "cell_type": "code",
   "execution_count": 22,
   "id": "7d9c143d",
   "metadata": {},
   "outputs": [],
   "source": [
    "import seaborn as sns"
   ]
  },
  {
   "cell_type": "code",
   "execution_count": 23,
   "id": "40e903eb",
   "metadata": {},
   "outputs": [
    {
     "data": {
      "image/png": "[encoded data removed]",
      "text/plain": [
       "<Figure size 864x432 with 2 Axes>"
      ]
     },
     "metadata": {
      "needs_background": "light"
     },
     "output_type": "display_data"
    }
   ],
   "source": [
    "fig, axes = plt.subplots(1,2,figsize = (12,6))\n",
    "sns.histplot(davis['height'], color='magenta',label='Height',ax = axes[0])\n",
    "sns.histplot(davis['weight'], color='red',label='Weight',ax = axes[1])\n",
    "fig.legend()\n",
    "plt.show()"
   ]
  },
  {
   "cell_type": "code",
   "execution_count": 24,
   "id": "1344dbfa",
   "metadata": {},
   "outputs": [
    {
     "data": {
      "image/png": "[encoded data removed]",
      "text/plain": [
       "<Figure size 864x432 with 2 Axes>"
      ]
     },
     "metadata": {
      "needs_background": "light"
     },
     "output_type": "display_data"
    }
   ],
   "source": [
    "fig, axes = plt.subplots(1,2,figsize = (12,6))\n",
    "sns.histplot(davis[davis['sex'] == 'M']['height'], color='blue', label='Men Height',ax = axes[0])\n",
    "sns.histplot(davis[davis['sex'] == 'M']['weight'], color='green', label='Men Weight',ax = axes[1])\n",
    "fig.legend()\n",
    "plt.show()"
   ]
  },
  {
   "cell_type": "code",
   "execution_count": 25,
   "id": "4788c67a",
   "metadata": {
    "scrolled": false
   },
   "outputs": [
    {
     "data": {
      "image/png": "[encoded data removed]",
      "text/plain": [
       "<Figure size 864x432 with 2 Axes>"
      ]
     },
     "metadata": {
      "needs_background": "light"
     },
     "output_type": "display_data"
    }
   ],
   "source": [
    "fig, axes = plt.subplots(1,2,figsize = (12,6))\n",
    "sns.histplot(davis[davis['sex'] == 'F']['height'], color='red', label='Women Height',ax = axes[0])\n",
    "sns.histplot(davis[davis['sex'] == 'F']['weight'], color='pink', label='Women Weight',ax = axes[1])\n",
    "fig.legend()\n",
    "plt.show()"
   ]
  },
  {
   "cell_type": "markdown",
   "id": "9a9f9c21",
   "metadata": {},
   "source": [
    "#### 4) На тренировочных данных обучите классификатор пола (sex), используя только признаки height и weight. Замерьте производительность на тренировочной и тестовой выборке (через Accuracy). Рекомендуемые модели:  логистическая регрессия, quadratic discriminant analysis."
   ]
  },
  {
   "cell_type": "code",
   "execution_count": 26,
   "id": "61c61cab",
   "metadata": {},
   "outputs": [],
   "source": [
    "from sklearn.discriminant_analysis import QuadraticDiscriminantAnalysis\n",
    "train.replace({'M':1,'F':0},inplace = True)\n",
    "test.replace({'M':1,'F':0},inplace = True)"
   ]
  },
  {
   "cell_type": "code",
   "execution_count": 27,
   "id": "26eb3714",
   "metadata": {},
   "outputs": [
    {
     "name": "stdout",
     "output_type": "stream",
     "text": [
      "0.8657718120805369\n"
     ]
    }
   ],
   "source": [
    "qda = QuadraticDiscriminantAnalysis()\n",
    "trainX = train[['height', 'weight']]\n",
    "trainY = train['sex']\n",
    "qda.fit(trainX,trainY)\n",
    "print(qda.score(trainX,trainY))"
   ]
  },
  {
   "cell_type": "code",
   "execution_count": 28,
   "id": "3f43a6e2",
   "metadata": {},
   "outputs": [],
   "source": [
    "from sklearn.metrics import accuracy_score"
   ]
  },
  {
   "cell_type": "code",
   "execution_count": 29,
   "id": "af7e22fd",
   "metadata": {},
   "outputs": [
    {
     "name": "stdout",
     "output_type": "stream",
     "text": [
      "0.36\n"
     ]
    },
    {
     "name": "stderr",
     "output_type": "stream",
     "text": [
      "D:\\Programs\\anaconda\\envs\\Labs\\lib\\site-packages\\sklearn\\base.py:488: FutureWarning: The feature names should match those that were passed during fit. Starting version 1.2, an error will be raised.\n",
      "Feature names must be in the same order as they were in fit.\n",
      "\n",
      "  warnings.warn(message, FutureWarning)\n"
     ]
    }
   ],
   "source": [
    "testX = test[['weight','height']]\n",
    "testY = test['sex']\n",
    "predicts = qda.predict(testX)\n",
    "print(accuracy_score(predicts,testY))"
   ]
  },
  {
   "cell_type": "markdown",
   "id": "5ea71427",
   "metadata": {},
   "source": [
    "#### 5) Отобразите точки из обучающей выборки на плоскости (height-weight). Покрасьте их цветами в зависимости от пола. Раскрасьте области в зависимости от пола, предсказанного обученным в п.4. классификатором. "
   ]
  },
  {
   "cell_type": "code",
   "execution_count": 30,
   "id": "c36ac5f3",
   "metadata": {},
   "outputs": [],
   "source": [
    "from matplotlib.colors import ListedColormap\n",
    "class_cmap = ListedColormap(['blue', 'red'])"
   ]
  },
  {
   "cell_type": "code",
   "execution_count": 31,
   "id": "8cdbab1f",
   "metadata": {},
   "outputs": [
    {
     "name": "stderr",
     "output_type": "stream",
     "text": [
      "D:\\Programs\\anaconda\\envs\\Labs\\lib\\site-packages\\sklearn\\base.py:445: UserWarning: X does not have valid feature names, but QuadraticDiscriminantAnalysis was fitted with feature names\n",
      "  warnings.warn(\n",
      "D:\\Programs\\anaconda\\envs\\Labs\\lib\\site-packages\\sklearn\\base.py:445: UserWarning: X does not have valid feature names, but QuadraticDiscriminantAnalysis was fitted with feature names\n",
      "  warnings.warn(\n"
     ]
    },
    {
     "data": {
      "image/png": "[encoded data removed]",
      "text/plain": [
       "<Figure size 864x432 with 2 Axes>"
      ]
     },
     "metadata": {
      "needs_background": "light"
     },
     "output_type": "display_data"
    }
   ],
   "source": [
    "fig, axes = plt.subplots(1,2,figsize = (12,6))\n",
    "\n",
    "x_min, x_max = trainX['height'].min()-0.5, trainX['height'].max()+0.5\n",
    "y_min, y_max = trainX['weight'].min()-0.5, trainX['weight'].max()+0.5\n",
    "xx, yy = np.mgrid[x_min:x_max:50j, y_min:y_max:50j]\n",
    "predX = np.column_stack([xx.reshape(-1), yy.reshape(-1)])\n",
    "predY = qda.predict(predX)\n",
    "\n",
    "axes[0].plot(train[trainY == 0]['height'],trainX[trainY == 0]['weight'], 'bo', label = 'men')\n",
    "axes[0].plot(trainX[trainY == 1]['height'],trainX[trainY == 1]['weight'], 'ro', label = 'women')\n",
    "axes[0].pcolormesh(xx, yy, predY.reshape(xx.shape), cmap=class_cmap, alpha=0.3, shading='auto')\n",
    "axes[0].set_ylim(y_min, y_max)\n",
    "axes[0].set_xlim(x_min, x_max)\n",
    "axes[0].set_ylabel('weight')\n",
    "axes[0].set_xlabel('height')\n",
    "axes[0].set_title('Training')\n",
    "axes[0].legend()\n",
    "\n",
    "\n",
    "x_min, x_max = testX['height'].min()-0.5, testX['height'].max()+0.5\n",
    "y_min, y_max = testX['weight'].min()-0.5, testX['weight'].max()+0.5\n",
    "xx, yy = np.mgrid[x_min:x_max:50j, y_min:y_max:50j]\n",
    "predX = np.column_stack([xx.reshape(-1), yy.reshape(-1)])\n",
    "predY = qda.predict(predX)\n",
    "\n",
    "axes[1].scatter(testX[testY == 0]['height'],testX[testY == 0]['weight'], color = 'blue', label = 'men')\n",
    "axes[1].scatter(testX[testY == 1]['height'],testX[testY == 1]['weight'], color = 'red', label = 'women')\n",
    "axes[1].pcolormesh(xx, yy, predY.reshape(xx.shape), cmap=class_cmap, alpha=0.3, shading='auto')\n",
    "axes[1].set_ylim(y_min, y_max)\n",
    "axes[1].set_xlim(x_min, x_max)\n",
    "axes[1].set_ylabel('weight')\n",
    "axes[1].set_xlabel('height')\n",
    "axes[1].set_title('Test')\n",
    "axes[1].legend()\n",
    "\n",
    "plt.show()"
   ]
  },
  {
   "cell_type": "markdown",
   "id": "c822e0a6",
   "metadata": {},
   "source": [
    "## Задание 2. Для датасета CCPP.\n",
    "#### 1) Возьмите данные с листа 1 и выделите валидационную и тестовую выборку."
   ]
  },
  {
   "cell_type": "code",
   "execution_count": 32,
   "id": "45897a21",
   "metadata": {},
   "outputs": [
    {
     "data": {
      "text/html": [
       "<div>\n",
       "<style scoped>\n",
       "    .dataframe tbody tr th:only-of-type {\n",
       "        vertical-align: middle;\n",
       "    }\n",
       "\n",
       "    .dataframe tbody tr th {\n",
       "        vertical-align: top;\n",
       "    }\n",
       "\n",
       "    .dataframe thead th {\n",
       "        text-align: right;\n",
       "    }\n",
       "</style>\n",
       "<table border=\"1\" class=\"dataframe\">\n",
       "  <thead>\n",
       "    <tr style=\"text-align: right;\">\n",
       "      <th></th>\n",
       "      <th>AT</th>\n",
       "      <th>V</th>\n",
       "      <th>AP</th>\n",
       "      <th>RH</th>\n",
       "      <th>PE</th>\n",
       "    </tr>\n",
       "  </thead>\n",
       "  <tbody>\n",
       "    <tr>\n",
       "      <th>0</th>\n",
       "      <td>14.96</td>\n",
       "      <td>41.76</td>\n",
       "      <td>1024.07</td>\n",
       "      <td>73.17</td>\n",
       "      <td>463.26</td>\n",
       "    </tr>\n",
       "    <tr>\n",
       "      <th>1</th>\n",
       "      <td>25.18</td>\n",
       "      <td>62.96</td>\n",
       "      <td>1020.04</td>\n",
       "      <td>59.08</td>\n",
       "      <td>444.37</td>\n",
       "    </tr>\n",
       "    <tr>\n",
       "      <th>2</th>\n",
       "      <td>5.11</td>\n",
       "      <td>39.40</td>\n",
       "      <td>1012.16</td>\n",
       "      <td>92.14</td>\n",
       "      <td>488.56</td>\n",
       "    </tr>\n",
       "    <tr>\n",
       "      <th>3</th>\n",
       "      <td>20.86</td>\n",
       "      <td>57.32</td>\n",
       "      <td>1010.24</td>\n",
       "      <td>76.64</td>\n",
       "      <td>446.48</td>\n",
       "    </tr>\n",
       "    <tr>\n",
       "      <th>4</th>\n",
       "      <td>10.82</td>\n",
       "      <td>37.50</td>\n",
       "      <td>1009.23</td>\n",
       "      <td>96.62</td>\n",
       "      <td>473.90</td>\n",
       "    </tr>\n",
       "    <tr>\n",
       "      <th>...</th>\n",
       "      <td>...</td>\n",
       "      <td>...</td>\n",
       "      <td>...</td>\n",
       "      <td>...</td>\n",
       "      <td>...</td>\n",
       "    </tr>\n",
       "    <tr>\n",
       "      <th>9563</th>\n",
       "      <td>16.65</td>\n",
       "      <td>49.69</td>\n",
       "      <td>1014.01</td>\n",
       "      <td>91.00</td>\n",
       "      <td>460.03</td>\n",
       "    </tr>\n",
       "    <tr>\n",
       "      <th>9564</th>\n",
       "      <td>13.19</td>\n",
       "      <td>39.18</td>\n",
       "      <td>1023.67</td>\n",
       "      <td>66.78</td>\n",
       "      <td>469.62</td>\n",
       "    </tr>\n",
       "    <tr>\n",
       "      <th>9565</th>\n",
       "      <td>31.32</td>\n",
       "      <td>74.33</td>\n",
       "      <td>1012.92</td>\n",
       "      <td>36.48</td>\n",
       "      <td>429.57</td>\n",
       "    </tr>\n",
       "    <tr>\n",
       "      <th>9566</th>\n",
       "      <td>24.48</td>\n",
       "      <td>69.45</td>\n",
       "      <td>1013.86</td>\n",
       "      <td>62.39</td>\n",
       "      <td>435.74</td>\n",
       "    </tr>\n",
       "    <tr>\n",
       "      <th>9567</th>\n",
       "      <td>21.60</td>\n",
       "      <td>62.52</td>\n",
       "      <td>1017.23</td>\n",
       "      <td>67.87</td>\n",
       "      <td>453.28</td>\n",
       "    </tr>\n",
       "  </tbody>\n",
       "</table>\n",
       "<p>9568 rows × 5 columns</p>\n",
       "</div>"
      ],
      "text/plain": [
       "         AT      V       AP     RH      PE\n",
       "0     14.96  41.76  1024.07  73.17  463.26\n",
       "1     25.18  62.96  1020.04  59.08  444.37\n",
       "2      5.11  39.40  1012.16  92.14  488.56\n",
       "3     20.86  57.32  1010.24  76.64  446.48\n",
       "4     10.82  37.50  1009.23  96.62  473.90\n",
       "...     ...    ...      ...    ...     ...\n",
       "9563  16.65  49.69  1014.01  91.00  460.03\n",
       "9564  13.19  39.18  1023.67  66.78  469.62\n",
       "9565  31.32  74.33  1012.92  36.48  429.57\n",
       "9566  24.48  69.45  1013.86  62.39  435.74\n",
       "9567  21.60  62.52  1017.23  67.87  453.28\n",
       "\n",
       "[9568 rows x 5 columns]"
      ]
     },
     "execution_count": 32,
     "metadata": {},
     "output_type": "execute_result"
    }
   ],
   "source": [
    "ccpp = pd.read_excel('Folds5x2_pp.xlsx', sheet_name = 'Sheet1')\n",
    "ccpp"
   ]
  },
  {
   "cell_type": "code",
   "execution_count": 33,
   "id": "a562dcf1",
   "metadata": {},
   "outputs": [
    {
     "name": "stdout",
     "output_type": "stream",
     "text": [
      "(6123, 5) (1531, 5) (1914, 5)\n"
     ]
    }
   ],
   "source": [
    "train_val, test = train_test_split(ccpp, test_size = 0.2)\n",
    "train, val = train_test_split(train_val, test_size= 0.2)\n",
    "print(train.shape,val.shape,test.shape)"
   ]
  },
  {
   "cell_type": "markdown",
   "id": "4805f547",
   "metadata": {},
   "source": [
    "#### 2) Постройте регрессионную модель.  Замерьте коэффициент  и среднюю ошибку предсказания на валидационной выборке.\n"
   ]
  },
  {
   "cell_type": "code",
   "execution_count": 34,
   "id": "1a96f4d0",
   "metadata": {},
   "outputs": [],
   "source": [
    "from sklearn.linear_model import LinearRegression\n",
    "from sklearn.metrics import r2_score, mean_absolute_error"
   ]
  },
  {
   "cell_type": "code",
   "execution_count": 35,
   "id": "0eacc680",
   "metadata": {},
   "outputs": [],
   "source": [
    "linReg = LinearRegression()\n",
    "\n",
    "trainX = train.drop('PE',axis = 1)\n",
    "trainY = train[\"PE\"]\n",
    "valX = val.drop('PE',axis = 1)\n",
    "valY = val[\"PE\"]\n",
    "testX = test.drop('PE',axis = 1)\n",
    "testY = test[\"PE\"]"
   ]
  },
  {
   "cell_type": "code",
   "execution_count": 36,
   "id": "442ff571",
   "metadata": {},
   "outputs": [
    {
     "name": "stdout",
     "output_type": "stream",
     "text": [
      "r2 score =  0.9233679649598941\n",
      "mae =  3.690830621319648\n"
     ]
    }
   ],
   "source": [
    "linReg.fit(trainX,trainY)\n",
    "predVal = linReg.predict(valX)\n",
    "print('r2 score = ',r2_score(valY,predVal))\n",
    "\n",
    "print('mae = ', mean_absolute_error(predVal,valY))"
   ]
  },
  {
   "cell_type": "markdown",
   "id": "d6b9e91e",
   "metadata": {},
   "source": [
    "#### 3) Постройте точки из валидационной выборки на плоскости ($t$ =истинное значение, $y$ =предсказание модели). Отобразите вместе с ними прямую $y=t$. \n"
   ]
  },
  {
   "cell_type": "code",
   "execution_count": 37,
   "id": "581df51c",
   "metadata": {},
   "outputs": [
    {
     "data": {
      "image/png": "[encoded data removed]",
      "text/plain": [
       "<Figure size 432x432 with 1 Axes>"
      ]
     },
     "metadata": {
      "needs_background": "light"
     },
     "output_type": "display_data"
    }
   ],
   "source": [
    "fig, ax = plt.subplots(1,1,figsize = (6,6))\n",
    "ax.plot(valY, predVal,'r.', alpha=0.4)\n",
    "ax.plot(valY, valY,'-k')\n",
    "ax.set_xlabel('t')\n",
    "ax.set_ylabel('y')\n",
    "ax.set_xlim(valY.min()-0.5,valY.max()+0.5)\n",
    "ax.set_ylim(valY.min()-0.5,valY.max()+0.5)\n",
    "plt.show()"
   ]
  },
  {
   "cell_type": "markdown",
   "id": "4db0d0b4",
   "metadata": {},
   "source": [
    "#### 5*) Замерьте $R^2$  и повторите п. 3. на тестовой выборке.\n"
   ]
  },
  {
   "cell_type": "code",
   "execution_count": 38,
   "id": "a4f0532b",
   "metadata": {},
   "outputs": [
    {
     "name": "stdout",
     "output_type": "stream",
     "text": [
      "0.9326750858942798\n"
     ]
    }
   ],
   "source": [
    "predTest = linReg.predict(testX)\n",
    "print(r2_score(testY,predTest))"
   ]
  },
  {
   "cell_type": "code",
   "execution_count": 39,
   "id": "ecd3f3cb",
   "metadata": {},
   "outputs": [
    {
     "data": {
      "image/png": "[encoded data removed]",
      "text/plain": [
       "<Figure size 432x432 with 1 Axes>"
      ]
     },
     "metadata": {
      "needs_background": "light"
     },
     "output_type": "display_data"
    }
   ],
   "source": [
    "predTest = linReg.predict(testX)\n",
    "fig, ax = plt.subplots(1,1,figsize = (6,6))\n",
    "ax.plot(testY, predTest,'r.', alpha=0.4)\n",
    "ax.plot(testY, testY,'-k')\n",
    "ax.set_xlabel('t')\n",
    "ax.set_ylabel('y')\n",
    "ax.set_xlim(testY.min()-0.5,testY.max()+0.5)\n",
    "ax.set_ylim(testY.min()-0.5,testY.max()+0.5)\n",
    "plt.show()"
   ]
  }
 ],
 "metadata": {
  "kernelspec": {
   "display_name": "Python 3 (ipykernel)",
   "language": "python",
   "name": "python3"
  },
  "language_info": {
   "codemirror_mode": {
    "name": "ipython",
    "version": 3
   },
   "file_extension": ".py",
   "mimetype": "text/x-python",
   "name": "python",
   "nbconvert_exporter": "python",
   "pygments_lexer": "ipython3",
   "version": "3.9.7"
  }
 },
 "nbformat": 4,
 "nbformat_minor": 5
}
